{
 "cells": [
  {
   "cell_type": "markdown",
   "metadata": {},
   "source": [
    "#  Obama tone to changes?\n",
    "\n",
    "\n",
    "\n",
    "**Datasource 1:** The [NRC Emotional Lexicon](http://saifmohammad.com/WebPages/NRC-Emotion-Lexicon.htm), a list of English words and their associations with eight basic emotions (anger, fear, anticipation, trust, surprise, sadness, joy, and disgust) and two sentiments (negative and positive). The annotations were manually done by crowdsourcing. \n",
    "\n",
    "Datasource 2: Speeches from White House https://www.whitehouse.gov/the-press-office/\n",
    "\n",
    "Datasource 3: Election Speeches taken from the website Presidency. Scraped Obama 2008: http://www.presidency.ucsb.edu/2008_election_speeches.php?candidate=44&campaign=2008OBAMA&doctype=5000"
   ]
  },
  {
   "cell_type": "code",
   "execution_count": 176,
   "metadata": {
    "collapsed": true
   },
   "outputs": [],
   "source": [
    "import pandas as pd\n",
    "%matplotlib inline"
   ]
  },
  {
   "cell_type": "markdown",
   "metadata": {},
   "source": [
    "# Reading in the EmoLex\n",
    "\n",
    "I'm just copying this from the other notebook! It's the one at the very bottom that does a lot of reshaping. I think it's the easiest to work with."
   ]
  },
  {
   "cell_type": "code",
   "execution_count": 177,
   "metadata": {},
   "outputs": [
    {
     "data": {
      "text/html": [
       "<div>\n",
       "<style>\n",
       "    .dataframe thead tr:only-child th {\n",
       "        text-align: right;\n",
       "    }\n",
       "\n",
       "    .dataframe thead th {\n",
       "        text-align: left;\n",
       "    }\n",
       "\n",
       "    .dataframe tbody tr th {\n",
       "        vertical-align: top;\n",
       "    }\n",
       "</style>\n",
       "<table border=\"1\" class=\"dataframe\">\n",
       "  <thead>\n",
       "    <tr style=\"text-align: right;\">\n",
       "      <th>emotion</th>\n",
       "      <th>word</th>\n",
       "      <th>anger</th>\n",
       "      <th>anticipation</th>\n",
       "      <th>disgust</th>\n",
       "      <th>fear</th>\n",
       "      <th>joy</th>\n",
       "      <th>negative</th>\n",
       "      <th>positive</th>\n",
       "      <th>sadness</th>\n",
       "      <th>surprise</th>\n",
       "      <th>trust</th>\n",
       "    </tr>\n",
       "  </thead>\n",
       "  <tbody>\n",
       "    <tr>\n",
       "      <th>0</th>\n",
       "      <td>aback</td>\n",
       "      <td>0</td>\n",
       "      <td>0</td>\n",
       "      <td>0</td>\n",
       "      <td>0</td>\n",
       "      <td>0</td>\n",
       "      <td>0</td>\n",
       "      <td>0</td>\n",
       "      <td>0</td>\n",
       "      <td>0</td>\n",
       "      <td>0</td>\n",
       "    </tr>\n",
       "    <tr>\n",
       "      <th>1</th>\n",
       "      <td>abacus</td>\n",
       "      <td>0</td>\n",
       "      <td>0</td>\n",
       "      <td>0</td>\n",
       "      <td>0</td>\n",
       "      <td>0</td>\n",
       "      <td>0</td>\n",
       "      <td>0</td>\n",
       "      <td>0</td>\n",
       "      <td>0</td>\n",
       "      <td>1</td>\n",
       "    </tr>\n",
       "    <tr>\n",
       "      <th>2</th>\n",
       "      <td>abandon</td>\n",
       "      <td>0</td>\n",
       "      <td>0</td>\n",
       "      <td>0</td>\n",
       "      <td>1</td>\n",
       "      <td>0</td>\n",
       "      <td>1</td>\n",
       "      <td>0</td>\n",
       "      <td>1</td>\n",
       "      <td>0</td>\n",
       "      <td>0</td>\n",
       "    </tr>\n",
       "    <tr>\n",
       "      <th>3</th>\n",
       "      <td>abandoned</td>\n",
       "      <td>1</td>\n",
       "      <td>0</td>\n",
       "      <td>0</td>\n",
       "      <td>1</td>\n",
       "      <td>0</td>\n",
       "      <td>1</td>\n",
       "      <td>0</td>\n",
       "      <td>1</td>\n",
       "      <td>0</td>\n",
       "      <td>0</td>\n",
       "    </tr>\n",
       "    <tr>\n",
       "      <th>4</th>\n",
       "      <td>abandonment</td>\n",
       "      <td>1</td>\n",
       "      <td>0</td>\n",
       "      <td>0</td>\n",
       "      <td>1</td>\n",
       "      <td>0</td>\n",
       "      <td>1</td>\n",
       "      <td>0</td>\n",
       "      <td>1</td>\n",
       "      <td>1</td>\n",
       "      <td>0</td>\n",
       "    </tr>\n",
       "  </tbody>\n",
       "</table>\n",
       "</div>"
      ],
      "text/plain": [
       "emotion         word  anger  anticipation  disgust  fear  joy  negative  \\\n",
       "0              aback      0             0        0     0    0         0   \n",
       "1             abacus      0             0        0     0    0         0   \n",
       "2            abandon      0             0        0     1    0         1   \n",
       "3          abandoned      1             0        0     1    0         1   \n",
       "4        abandonment      1             0        0     1    0         1   \n",
       "\n",
       "emotion  positive  sadness  surprise  trust  \n",
       "0               0        0         0      0  \n",
       "1               0        0         0      1  \n",
       "2               0        1         0      0  \n",
       "3               0        1         0      0  \n",
       "4               0        1         1      0  "
      ]
     },
     "execution_count": 177,
     "metadata": {},
     "output_type": "execute_result"
    }
   ],
   "source": [
    "filepath = \"NRC-Emotion-Lexicon-v0.92/NRC-emotion-lexicon-wordlevel-alphabetized-v0.92.txt\"\n",
    "emolex_df = pd.read_csv(filepath,  names=[\"word\", \"emotion\", \"association\"], skiprows=45, sep='\\t')\n",
    "emolex_df = emolex_df.pivot(index='word', columns='emotion', values='association').reset_index()\n",
    "emolex_df.head()"
   ]
  },
  {
   "cell_type": "markdown",
   "metadata": {},
   "source": [
    "## Reading in Obama's election speeches\n",
    "\n",
    "### Get a list of all of the files"
   ]
  },
  {
   "cell_type": "code",
   "execution_count": 178,
   "metadata": {
    "collapsed": true
   },
   "outputs": [],
   "source": [
    "filenames = pd.read_csv(\"obama_elections.csv\")\n"
   ]
  },
  {
   "cell_type": "code",
   "execution_count": 179,
   "metadata": {},
   "outputs": [
    {
     "data": {
      "text/html": [
       "<div>\n",
       "<style>\n",
       "    .dataframe thead tr:only-child th {\n",
       "        text-align: right;\n",
       "    }\n",
       "\n",
       "    .dataframe thead th {\n",
       "        text-align: left;\n",
       "    }\n",
       "\n",
       "    .dataframe tbody tr th {\n",
       "        vertical-align: top;\n",
       "    }\n",
       "</style>\n",
       "<table border=\"1\" class=\"dataframe\">\n",
       "  <thead>\n",
       "    <tr style=\"text-align: right;\">\n",
       "      <th></th>\n",
       "      <th>Address at the National Constitution Center in Philadelphia: \"A More Perfect Union\"; March 18, 2008</th>\n",
       "      <th>Address in Berlin at the Victory Column in Tiergarten Park; July 24, 2008</th>\n",
       "      <th>Address in Chicago Accepting Election as the 44th President of the United States; November 4, 2008</th>\n",
       "      <th>Commencement Address at Wesleyan University in Middletown, Connecticut; May 25, 2008</th>\n",
       "      <th>Democratic Radio Address; November 1, 2008</th>\n",
       "      <th>E-mail Message Announcing Selection of Senator Joseph Biden as the 2008 Democratic Vice-Presidential Nominee; August 23, 2008</th>\n",
       "      <th>Excerpt of News Conference; June 25, 2008</th>\n",
       "      <th>Excerpt of Remarks in Sderot, Israel; July 23, 2008</th>\n",
       "      <th>Excerpts of Interview with Charles Gibson of ABC News; October 8, 2008</th>\n",
       "      <th>Informal Exchange with Reporters in Clearwater, Florida; September 24, 2008</th>\n",
       "      <th>...</th>\n",
       "      <th>Remarks to the National Conference of Black Mayors in Baton Rouge, Louisiana; May 5, 2007</th>\n",
       "      <th>Remarks to the National Council of La Raza in Miami; July 22, 2007</th>\n",
       "      <th>Remarks to the National Education Association Annual Meeting in Philadelphia; July 5, 2007</th>\n",
       "      <th>Remarks to the U.S. Conference of Mayors in Miami, Florida; June 21, 2008</th>\n",
       "      <th>Remarks to the United Auto Workers Conference in Dubuque, Iowa; November 13, 2007</th>\n",
       "      <th>Remarks to the Veterans of Foreign Wars Convention in Orlando, Florida; August 19, 2008</th>\n",
       "      <th>Remarks via Satellite to the 80th Convention of the American Federation of Teachers; July 13, 2008</th>\n",
       "      <th>Remarks with Chris Matthews at the \"Hardball\" College Tour at West Chester University of Pennsylvania; April 2, 2008</th>\n",
       "      <th>Remarks with Senator Hillary Clinton in Unity, New Hampshire; June 27, 2008</th>\n",
       "      <th>Text Message Announcing Selection of Senator Joseph Biden as the 2008 Democratic Vice-Presidential Nominee; August 23, 2008</th>\n",
       "    </tr>\n",
       "  </thead>\n",
       "  <tbody>\n",
       "    <tr>\n",
       "      <th>0</th>\n",
       "      <td>March 18, 2008</td>\n",
       "      <td>July 24, 2008</td>\n",
       "      <td>November 4, 2008</td>\n",
       "      <td>May 25, 2008</td>\n",
       "      <td>November 1, 2008</td>\n",
       "      <td>August 23, 2008</td>\n",
       "      <td>June 25, 2008</td>\n",
       "      <td>July 23, 2008</td>\n",
       "      <td>October 8, 2008</td>\n",
       "      <td>September 24, 2008</td>\n",
       "      <td>...</td>\n",
       "      <td>May 5, 2007</td>\n",
       "      <td>July 22, 2007</td>\n",
       "      <td>July 5, 2007</td>\n",
       "      <td>June 21, 2008</td>\n",
       "      <td>November 13, 2007</td>\n",
       "      <td>August 19, 2008</td>\n",
       "      <td>July 13, 2008</td>\n",
       "      <td>April 2, 2008</td>\n",
       "      <td>June 27, 2008</td>\n",
       "      <td>August 23, 2008</td>\n",
       "    </tr>\n",
       "    <tr>\n",
       "      <th>1</th>\n",
       "      <td>“We the people, in order to form a more perfec...</td>\n",
       "      <td>Thank you to the citizens of Berlin and to the...</td>\n",
       "      <td>If there is anyone out there who still doubts ...</td>\n",
       "      <td>Thank you, President Roth, for that generous i...</td>\n",
       "      <td>Good morning. This is Barack Obama.After decad...</td>\n",
       "      <td>(Recipient's First Name)--I have some importan...</td>\n",
       "      <td>joined in progressOBAMA: ...but no matter who ...</td>\n",
       "      <td>(JOINED IN PROGRESS)... today, Mahmoud Abbas a...</td>\n",
       "      <td>GIBSON: Senator, we're undergoing a global mar...</td>\n",
       "      <td>I wanted to have a chance to talk to you, beca...</td>\n",
       "      <td>...</td>\n",
       "      <td>It is an honor to be here at Southern Universi...</td>\n",
       "      <td>I have been running for President now for a li...</td>\n",
       "      <td>Over the last few years, I've been traveling t...</td>\n",
       "      <td>This is something of a homecoming for me. Beca...</td>\n",
       "      <td>We meet at a difficult time for organized labo...</td>\n",
       "      <td>Thank you, Commander Lisicki, for your leaders...</td>\n",
       "      <td>Hello, everybody. I'm sorry I can't join you a...</td>\n",
       "      <td>MATTHEWS: Live from West Chester University ou...</td>\n",
       "      <td>CLINTON: Hello, Unity! Hello, New Hampshire! W...</td>\n",
       "      <td>Barack has chosen Senator Joe Biden to be our ...</td>\n",
       "    </tr>\n",
       "    <tr>\n",
       "      <th>2</th>\n",
       "      <td>http://www.presidency.ucsb.edu/ws/index.php?pi...</td>\n",
       "      <td>http://www.presidency.ucsb.edu/ws/index.php?pi...</td>\n",
       "      <td>http://www.presidency.ucsb.edu/ws/index.php?pi...</td>\n",
       "      <td>http://www.presidency.ucsb.edu/ws/index.php?pi...</td>\n",
       "      <td>http://www.presidency.ucsb.edu/ws/index.php?pi...</td>\n",
       "      <td>http://www.presidency.ucsb.edu/ws/index.php?pi...</td>\n",
       "      <td>http://www.presidency.ucsb.edu/ws/index.php?pi...</td>\n",
       "      <td>http://www.presidency.ucsb.edu/ws/index.php?pi...</td>\n",
       "      <td>http://www.presidency.ucsb.edu/ws/index.php?pi...</td>\n",
       "      <td>http://www.presidency.ucsb.edu/ws/index.php?pi...</td>\n",
       "      <td>...</td>\n",
       "      <td>http://www.presidency.ucsb.edu/ws/index.php?pi...</td>\n",
       "      <td>http://www.presidency.ucsb.edu/ws/index.php?pi...</td>\n",
       "      <td>http://www.presidency.ucsb.edu/ws/index.php?pi...</td>\n",
       "      <td>http://www.presidency.ucsb.edu/ws/index.php?pi...</td>\n",
       "      <td>http://www.presidency.ucsb.edu/ws/index.php?pi...</td>\n",
       "      <td>http://www.presidency.ucsb.edu/ws/index.php?pi...</td>\n",
       "      <td>http://www.presidency.ucsb.edu/ws/index.php?pi...</td>\n",
       "      <td>http://www.presidency.ucsb.edu/ws/index.php?pi...</td>\n",
       "      <td>http://www.presidency.ucsb.edu/ws/index.php?pi...</td>\n",
       "      <td>http://www.presidency.ucsb.edu/ws/index.php?pi...</td>\n",
       "    </tr>\n",
       "  </tbody>\n",
       "</table>\n",
       "<p>3 rows × 227 columns</p>\n",
       "</div>"
      ],
      "text/plain": [
       "  Address at the National Constitution Center in Philadelphia: \"A More Perfect Union\"; March 18, 2008  \\\n",
       "0                                     March 18, 2008                                                    \n",
       "1  “We the people, in order to form a more perfec...                                                    \n",
       "2  http://www.presidency.ucsb.edu/ws/index.php?pi...                                                    \n",
       "\n",
       "  Address in Berlin at the Victory Column in Tiergarten Park; July 24, 2008  \\\n",
       "0                                      July 24, 2008                          \n",
       "1  Thank you to the citizens of Berlin and to the...                          \n",
       "2  http://www.presidency.ucsb.edu/ws/index.php?pi...                          \n",
       "\n",
       "  Address in Chicago Accepting Election as the 44th President of the United States; November 4, 2008  \\\n",
       "0                                   November 4, 2008                                                   \n",
       "1  If there is anyone out there who still doubts ...                                                   \n",
       "2  http://www.presidency.ucsb.edu/ws/index.php?pi...                                                   \n",
       "\n",
       "  Commencement Address at Wesleyan University in Middletown, Connecticut; May 25, 2008  \\\n",
       "0                                       May 25, 2008                                     \n",
       "1  Thank you, President Roth, for that generous i...                                     \n",
       "2  http://www.presidency.ucsb.edu/ws/index.php?pi...                                     \n",
       "\n",
       "          Democratic Radio Address; November 1, 2008  \\\n",
       "0                                   November 1, 2008   \n",
       "1  Good morning. This is Barack Obama.After decad...   \n",
       "2  http://www.presidency.ucsb.edu/ws/index.php?pi...   \n",
       "\n",
       "  E-mail Message Announcing Selection of Senator Joseph Biden as the 2008 Democratic Vice-Presidential Nominee; August 23, 2008  \\\n",
       "0                                    August 23, 2008                                                                              \n",
       "1  (Recipient's First Name)--I have some importan...                                                                              \n",
       "2  http://www.presidency.ucsb.edu/ws/index.php?pi...                                                                              \n",
       "\n",
       "           Excerpt of News Conference; June 25, 2008  \\\n",
       "0                                      June 25, 2008   \n",
       "1  joined in progressOBAMA: ...but no matter who ...   \n",
       "2  http://www.presidency.ucsb.edu/ws/index.php?pi...   \n",
       "\n",
       "  Excerpt of Remarks in Sderot, Israel; July 23, 2008  \\\n",
       "0                                      July 23, 2008    \n",
       "1  (JOINED IN PROGRESS)... today, Mahmoud Abbas a...    \n",
       "2  http://www.presidency.ucsb.edu/ws/index.php?pi...    \n",
       "\n",
       "  Excerpts of Interview with Charles Gibson of ABC News; October 8, 2008  \\\n",
       "0                                    October 8, 2008                       \n",
       "1  GIBSON: Senator, we're undergoing a global mar...                       \n",
       "2  http://www.presidency.ucsb.edu/ws/index.php?pi...                       \n",
       "\n",
       "  Informal Exchange with Reporters in Clearwater, Florida; September 24, 2008  \\\n",
       "0                                 September 24, 2008                            \n",
       "1  I wanted to have a chance to talk to you, beca...                            \n",
       "2  http://www.presidency.ucsb.edu/ws/index.php?pi...                            \n",
       "\n",
       "                                                              ...                                                              \\\n",
       "0                                                             ...                                                               \n",
       "1                                                             ...                                                               \n",
       "2                                                             ...                                                               \n",
       "\n",
       "  Remarks to the National Conference of Black Mayors in Baton Rouge, Louisiana; May 5, 2007  \\\n",
       "0                                        May 5, 2007                                          \n",
       "1  It is an honor to be here at Southern Universi...                                          \n",
       "2  http://www.presidency.ucsb.edu/ws/index.php?pi...                                          \n",
       "\n",
       "  Remarks to the National Council of La Raza in Miami; July 22, 2007  \\\n",
       "0                                      July 22, 2007                   \n",
       "1  I have been running for President now for a li...                   \n",
       "2  http://www.presidency.ucsb.edu/ws/index.php?pi...                   \n",
       "\n",
       "  Remarks to the National Education Association Annual Meeting in Philadelphia; July 5, 2007  \\\n",
       "0                                       July 5, 2007                                           \n",
       "1  Over the last few years, I've been traveling t...                                           \n",
       "2  http://www.presidency.ucsb.edu/ws/index.php?pi...                                           \n",
       "\n",
       "  Remarks to the U.S. Conference of Mayors in Miami, Florida; June 21, 2008  \\\n",
       "0                                      June 21, 2008                          \n",
       "1  This is something of a homecoming for me. Beca...                          \n",
       "2  http://www.presidency.ucsb.edu/ws/index.php?pi...                          \n",
       "\n",
       "  Remarks to the United Auto Workers Conference in Dubuque, Iowa; November 13, 2007  \\\n",
       "0                                  November 13, 2007                                  \n",
       "1  We meet at a difficult time for organized labo...                                  \n",
       "2  http://www.presidency.ucsb.edu/ws/index.php?pi...                                  \n",
       "\n",
       "  Remarks to the Veterans of Foreign Wars Convention in Orlando, Florida; August 19, 2008  \\\n",
       "0                                    August 19, 2008                                        \n",
       "1  Thank you, Commander Lisicki, for your leaders...                                        \n",
       "2  http://www.presidency.ucsb.edu/ws/index.php?pi...                                        \n",
       "\n",
       "  Remarks via Satellite to the 80th Convention of the American Federation of Teachers; July 13, 2008  \\\n",
       "0                                      July 13, 2008                                                   \n",
       "1  Hello, everybody. I'm sorry I can't join you a...                                                   \n",
       "2  http://www.presidency.ucsb.edu/ws/index.php?pi...                                                   \n",
       "\n",
       "  Remarks with Chris Matthews at the \"Hardball\" College Tour at West Chester University of Pennsylvania; April 2, 2008  \\\n",
       "0                                      April 2, 2008                                                                     \n",
       "1  MATTHEWS: Live from West Chester University ou...                                                                     \n",
       "2  http://www.presidency.ucsb.edu/ws/index.php?pi...                                                                     \n",
       "\n",
       "  Remarks with Senator Hillary Clinton in Unity, New Hampshire; June 27, 2008  \\\n",
       "0                                      June 27, 2008                            \n",
       "1  CLINTON: Hello, Unity! Hello, New Hampshire! W...                            \n",
       "2  http://www.presidency.ucsb.edu/ws/index.php?pi...                            \n",
       "\n",
       "  Text Message Announcing Selection of Senator Joseph Biden as the 2008 Democratic Vice-Presidential Nominee; August 23, 2008  \n",
       "0                                    August 23, 2008                                                                           \n",
       "1  Barack has chosen Senator Joe Biden to be our ...                                                                           \n",
       "2  http://www.presidency.ucsb.edu/ws/index.php?pi...                                                                           \n",
       "\n",
       "[3 rows x 227 columns]"
      ]
     },
     "execution_count": 179,
     "metadata": {},
     "output_type": "execute_result"
    }
   ],
   "source": [
    "filenames.head()"
   ]
  },
  {
   "cell_type": "code",
   "execution_count": 180,
   "metadata": {
    "scrolled": false
   },
   "outputs": [
    {
     "data": {
      "text/html": [
       "<div>\n",
       "<style>\n",
       "    .dataframe thead tr:only-child th {\n",
       "        text-align: right;\n",
       "    }\n",
       "\n",
       "    .dataframe thead th {\n",
       "        text-align: left;\n",
       "    }\n",
       "\n",
       "    .dataframe tbody tr th {\n",
       "        vertical-align: top;\n",
       "    }\n",
       "</style>\n",
       "<table border=\"1\" class=\"dataframe\">\n",
       "  <thead>\n",
       "    <tr style=\"text-align: right;\">\n",
       "      <th></th>\n",
       "      <th>name</th>\n",
       "      <th>0</th>\n",
       "      <th>1</th>\n",
       "      <th>2</th>\n",
       "    </tr>\n",
       "  </thead>\n",
       "  <tbody>\n",
       "    <tr>\n",
       "      <th>0</th>\n",
       "      <td>Address at the National Constitution Center in...</td>\n",
       "      <td>March 18, 2008</td>\n",
       "      <td>“We the people, in order to form a more perfec...</td>\n",
       "      <td>http://www.presidency.ucsb.edu/ws/index.php?pi...</td>\n",
       "    </tr>\n",
       "    <tr>\n",
       "      <th>1</th>\n",
       "      <td>Address in Berlin at the Victory Column in Tie...</td>\n",
       "      <td>July 24, 2008</td>\n",
       "      <td>Thank you to the citizens of Berlin and to the...</td>\n",
       "      <td>http://www.presidency.ucsb.edu/ws/index.php?pi...</td>\n",
       "    </tr>\n",
       "    <tr>\n",
       "      <th>2</th>\n",
       "      <td>Address in Chicago Accepting Election as the 4...</td>\n",
       "      <td>November 4, 2008</td>\n",
       "      <td>If there is anyone out there who still doubts ...</td>\n",
       "      <td>http://www.presidency.ucsb.edu/ws/index.php?pi...</td>\n",
       "    </tr>\n",
       "    <tr>\n",
       "      <th>3</th>\n",
       "      <td>Commencement Address at Wesleyan University in...</td>\n",
       "      <td>May 25, 2008</td>\n",
       "      <td>Thank you, President Roth, for that generous i...</td>\n",
       "      <td>http://www.presidency.ucsb.edu/ws/index.php?pi...</td>\n",
       "    </tr>\n",
       "    <tr>\n",
       "      <th>4</th>\n",
       "      <td>Democratic Radio Address; November 1, 2008</td>\n",
       "      <td>November 1, 2008</td>\n",
       "      <td>Good morning. This is Barack Obama.After decad...</td>\n",
       "      <td>http://www.presidency.ucsb.edu/ws/index.php?pi...</td>\n",
       "    </tr>\n",
       "  </tbody>\n",
       "</table>\n",
       "</div>"
      ],
      "text/plain": [
       "                                                name                 0  \\\n",
       "0  Address at the National Constitution Center in...    March 18, 2008   \n",
       "1  Address in Berlin at the Victory Column in Tie...     July 24, 2008   \n",
       "2  Address in Chicago Accepting Election as the 4...  November 4, 2008   \n",
       "3  Commencement Address at Wesleyan University in...      May 25, 2008   \n",
       "4         Democratic Radio Address; November 1, 2008  November 1, 2008   \n",
       "\n",
       "                                                   1  \\\n",
       "0  “We the people, in order to form a more perfec...   \n",
       "1  Thank you to the citizens of Berlin and to the...   \n",
       "2  If there is anyone out there who still doubts ...   \n",
       "3  Thank you, President Roth, for that generous i...   \n",
       "4  Good morning. This is Barack Obama.After decad...   \n",
       "\n",
       "                                                   2  \n",
       "0  http://www.presidency.ucsb.edu/ws/index.php?pi...  \n",
       "1  http://www.presidency.ucsb.edu/ws/index.php?pi...  \n",
       "2  http://www.presidency.ucsb.edu/ws/index.php?pi...  \n",
       "3  http://www.presidency.ucsb.edu/ws/index.php?pi...  \n",
       "4  http://www.presidency.ucsb.edu/ws/index.php?pi...  "
      ]
     },
     "execution_count": 180,
     "metadata": {},
     "output_type": "execute_result"
    }
   ],
   "source": [
    "speeches_df = filenames.T.reset_index().rename(columns={'index': 'name'})\n",
    "speeches_df.head()"
   ]
  },
  {
   "cell_type": "code",
   "execution_count": 181,
   "metadata": {
    "scrolled": false
   },
   "outputs": [
    {
     "data": {
      "text/html": [
       "<div>\n",
       "<style>\n",
       "    .dataframe thead tr:only-child th {\n",
       "        text-align: right;\n",
       "    }\n",
       "\n",
       "    .dataframe thead th {\n",
       "        text-align: left;\n",
       "    }\n",
       "\n",
       "    .dataframe tbody tr th {\n",
       "        vertical-align: top;\n",
       "    }\n",
       "</style>\n",
       "<table border=\"1\" class=\"dataframe\">\n",
       "  <thead>\n",
       "    <tr style=\"text-align: right;\">\n",
       "      <th></th>\n",
       "      <th>name</th>\n",
       "      <th>date</th>\n",
       "      <th>content</th>\n",
       "      <th>filename</th>\n",
       "    </tr>\n",
       "  </thead>\n",
       "  <tbody>\n",
       "    <tr>\n",
       "      <th>0</th>\n",
       "      <td>Address at the National Constitution Center in...</td>\n",
       "      <td>March 18, 2008</td>\n",
       "      <td>“We the people, in order to form a more perfec...</td>\n",
       "      <td>http://www.presidency.ucsb.edu/ws/index.php?pi...</td>\n",
       "    </tr>\n",
       "    <tr>\n",
       "      <th>1</th>\n",
       "      <td>Address in Berlin at the Victory Column in Tie...</td>\n",
       "      <td>July 24, 2008</td>\n",
       "      <td>Thank you to the citizens of Berlin and to the...</td>\n",
       "      <td>http://www.presidency.ucsb.edu/ws/index.php?pi...</td>\n",
       "    </tr>\n",
       "    <tr>\n",
       "      <th>2</th>\n",
       "      <td>Address in Chicago Accepting Election as the 4...</td>\n",
       "      <td>November 4, 2008</td>\n",
       "      <td>If there is anyone out there who still doubts ...</td>\n",
       "      <td>http://www.presidency.ucsb.edu/ws/index.php?pi...</td>\n",
       "    </tr>\n",
       "    <tr>\n",
       "      <th>3</th>\n",
       "      <td>Commencement Address at Wesleyan University in...</td>\n",
       "      <td>May 25, 2008</td>\n",
       "      <td>Thank you, President Roth, for that generous i...</td>\n",
       "      <td>http://www.presidency.ucsb.edu/ws/index.php?pi...</td>\n",
       "    </tr>\n",
       "    <tr>\n",
       "      <th>4</th>\n",
       "      <td>Democratic Radio Address; November 1, 2008</td>\n",
       "      <td>November 1, 2008</td>\n",
       "      <td>Good morning. This is Barack Obama.After decad...</td>\n",
       "      <td>http://www.presidency.ucsb.edu/ws/index.php?pi...</td>\n",
       "    </tr>\n",
       "  </tbody>\n",
       "</table>\n",
       "</div>"
      ],
      "text/plain": [
       "                                                name              date  \\\n",
       "0  Address at the National Constitution Center in...    March 18, 2008   \n",
       "1  Address in Berlin at the Victory Column in Tie...     July 24, 2008   \n",
       "2  Address in Chicago Accepting Election as the 4...  November 4, 2008   \n",
       "3  Commencement Address at Wesleyan University in...      May 25, 2008   \n",
       "4         Democratic Radio Address; November 1, 2008  November 1, 2008   \n",
       "\n",
       "                                             content  \\\n",
       "0  “We the people, in order to form a more perfec...   \n",
       "1  Thank you to the citizens of Berlin and to the...   \n",
       "2  If there is anyone out there who still doubts ...   \n",
       "3  Thank you, President Roth, for that generous i...   \n",
       "4  Good morning. This is Barack Obama.After decad...   \n",
       "\n",
       "                                            filename  \n",
       "0  http://www.presidency.ucsb.edu/ws/index.php?pi...  \n",
       "1  http://www.presidency.ucsb.edu/ws/index.php?pi...  \n",
       "2  http://www.presidency.ucsb.edu/ws/index.php?pi...  \n",
       "3  http://www.presidency.ucsb.edu/ws/index.php?pi...  \n",
       "4  http://www.presidency.ucsb.edu/ws/index.php?pi...  "
      ]
     },
     "execution_count": 181,
     "metadata": {},
     "output_type": "execute_result"
    }
   ],
   "source": [
    "speeches_df.columns = ['name', 'date', 'content', 'filename']\n",
    "speeches_df.head()"
   ]
  },
  {
   "cell_type": "code",
   "execution_count": 182,
   "metadata": {},
   "outputs": [
    {
     "data": {
      "text/plain": [
       "0     2008-03-18\n",
       "1     2008-07-24\n",
       "2     2008-11-04\n",
       "3     2008-05-25\n",
       "4     2008-11-01\n",
       "5     2008-08-23\n",
       "6     2008-06-25\n",
       "7     2008-07-23\n",
       "8     2008-10-08\n",
       "9     2008-09-24\n",
       "10    2008-05-28\n",
       "11    2008-09-04\n",
       "12    2008-09-08\n",
       "13    2008-09-09\n",
       "14    2008-09-10\n",
       "15    2008-09-25\n",
       "16    2008-04-27\n",
       "17    2008-08-16\n",
       "18    2008-02-02\n",
       "19    2008-07-13\n",
       "20    2008-01-27\n",
       "21    2008-10-23\n",
       "22    2008-09-21\n",
       "23    2008-05-05\n",
       "24    2008-04-21\n",
       "25    2008-07-22\n",
       "26    2008-05-05\n",
       "27    2008-03-15\n",
       "28    2008-07-20\n",
       "29    2008-07-15\n",
       "         ...    \n",
       "197   2008-09-29\n",
       "198   2008-05-13\n",
       "199   2008-06-11\n",
       "200   2008-04-25\n",
       "201   2008-07-01\n",
       "202   2007-05-29\n",
       "203   2008-05-26\n",
       "204   2008-01-22\n",
       "205   2008-04-02\n",
       "206   2008-04-14\n",
       "207   2008-06-04\n",
       "208   2007-05-02\n",
       "209   2007-04-23\n",
       "210   2008-09-25\n",
       "211   2007-07-26\n",
       "212   2008-09-10\n",
       "213   2008-05-23\n",
       "214   2007-05-07\n",
       "215   2007-06-05\n",
       "216   2008-06-28\n",
       "217   2007-05-05\n",
       "218   2007-07-22\n",
       "219   2007-07-05\n",
       "220   2008-06-21\n",
       "221   2007-11-13\n",
       "222   2008-08-19\n",
       "223   2008-07-13\n",
       "224   2008-04-02\n",
       "225   2008-06-27\n",
       "226   2008-08-23\n",
       "Name: date, Length: 227, dtype: datetime64[ns]"
      ]
     },
     "execution_count": 182,
     "metadata": {},
     "output_type": "execute_result"
    }
   ],
   "source": [
    "dates = speeches_df['date']\n",
    "pd.to_datetime(dates)"
   ]
  },
  {
   "cell_type": "code",
   "execution_count": null,
   "metadata": {},
   "outputs": [],
   "source": []
  },
  {
   "cell_type": "markdown",
   "metadata": {},
   "source": [
    "# How does Obama before winning the elections sound?\n",
    "\n",
    "Let's analyze by counting words.\n",
    "\n",
    "We would use the code below to count all of his words. **Do we really want all of them?**\n",
    "\n",
    "```python\n",
    "from sklearn.feature_extraction.text import CountVectorizer\n",
    "\n",
    "vec = CountVectorizer()\n",
    "matrix = vec.fit_transform(speeches_df['content'])\n",
    "vocab = vec.get_feature_names()\n",
    "wordcount_df = pd.DataFrame(matrix.toarray(), columns=vocab)\n",
    "wordcount_df.head()\n",
    "```"
   ]
  },
  {
   "cell_type": "code",
   "execution_count": 183,
   "metadata": {},
   "outputs": [
    {
     "data": {
      "text/plain": [
       "0      aback\n",
       "1     abacus\n",
       "2    abandon\n",
       "Name: word, dtype: object"
      ]
     },
     "execution_count": 183,
     "metadata": {},
     "output_type": "execute_result"
    }
   ],
   "source": [
    "emolex_df['word'].head(3)"
   ]
  },
  {
   "cell_type": "code",
   "execution_count": 184,
   "metadata": {},
   "outputs": [
    {
     "data": {
      "text/html": [
       "<div>\n",
       "<style>\n",
       "    .dataframe thead tr:only-child th {\n",
       "        text-align: right;\n",
       "    }\n",
       "\n",
       "    .dataframe thead th {\n",
       "        text-align: left;\n",
       "    }\n",
       "\n",
       "    .dataframe tbody tr th {\n",
       "        vertical-align: top;\n",
       "    }\n",
       "</style>\n",
       "<table border=\"1\" class=\"dataframe\">\n",
       "  <thead>\n",
       "    <tr style=\"text-align: right;\">\n",
       "      <th></th>\n",
       "      <th>aback</th>\n",
       "      <th>abacus</th>\n",
       "      <th>abandon</th>\n",
       "      <th>abandoned</th>\n",
       "      <th>abandonment</th>\n",
       "      <th>abate</th>\n",
       "      <th>abatement</th>\n",
       "      <th>abba</th>\n",
       "      <th>abbot</th>\n",
       "      <th>abbreviate</th>\n",
       "      <th>...</th>\n",
       "      <th>zephyr</th>\n",
       "      <th>zeppelin</th>\n",
       "      <th>zest</th>\n",
       "      <th>zip</th>\n",
       "      <th>zodiac</th>\n",
       "      <th>zone</th>\n",
       "      <th>zoo</th>\n",
       "      <th>zoological</th>\n",
       "      <th>zoology</th>\n",
       "      <th>zoom</th>\n",
       "    </tr>\n",
       "  </thead>\n",
       "  <tbody>\n",
       "    <tr>\n",
       "      <th>0</th>\n",
       "      <td>0.0</td>\n",
       "      <td>0.0</td>\n",
       "      <td>0.000000</td>\n",
       "      <td>0.0</td>\n",
       "      <td>0.0</td>\n",
       "      <td>0.0</td>\n",
       "      <td>0.0</td>\n",
       "      <td>0.0</td>\n",
       "      <td>0.0</td>\n",
       "      <td>0.0</td>\n",
       "      <td>...</td>\n",
       "      <td>0.0</td>\n",
       "      <td>0.0</td>\n",
       "      <td>0.0</td>\n",
       "      <td>0.0</td>\n",
       "      <td>0.0</td>\n",
       "      <td>0.0</td>\n",
       "      <td>0.0</td>\n",
       "      <td>0.0</td>\n",
       "      <td>0.0</td>\n",
       "      <td>0.0</td>\n",
       "    </tr>\n",
       "    <tr>\n",
       "      <th>1</th>\n",
       "      <td>0.0</td>\n",
       "      <td>0.0</td>\n",
       "      <td>0.001353</td>\n",
       "      <td>0.0</td>\n",
       "      <td>0.0</td>\n",
       "      <td>0.0</td>\n",
       "      <td>0.0</td>\n",
       "      <td>0.0</td>\n",
       "      <td>0.0</td>\n",
       "      <td>0.0</td>\n",
       "      <td>...</td>\n",
       "      <td>0.0</td>\n",
       "      <td>0.0</td>\n",
       "      <td>0.0</td>\n",
       "      <td>0.0</td>\n",
       "      <td>0.0</td>\n",
       "      <td>0.0</td>\n",
       "      <td>0.0</td>\n",
       "      <td>0.0</td>\n",
       "      <td>0.0</td>\n",
       "      <td>0.0</td>\n",
       "    </tr>\n",
       "    <tr>\n",
       "      <th>2</th>\n",
       "      <td>0.0</td>\n",
       "      <td>0.0</td>\n",
       "      <td>0.000000</td>\n",
       "      <td>0.0</td>\n",
       "      <td>0.0</td>\n",
       "      <td>0.0</td>\n",
       "      <td>0.0</td>\n",
       "      <td>0.0</td>\n",
       "      <td>0.0</td>\n",
       "      <td>0.0</td>\n",
       "      <td>...</td>\n",
       "      <td>0.0</td>\n",
       "      <td>0.0</td>\n",
       "      <td>0.0</td>\n",
       "      <td>0.0</td>\n",
       "      <td>0.0</td>\n",
       "      <td>0.0</td>\n",
       "      <td>0.0</td>\n",
       "      <td>0.0</td>\n",
       "      <td>0.0</td>\n",
       "      <td>0.0</td>\n",
       "    </tr>\n",
       "    <tr>\n",
       "      <th>3</th>\n",
       "      <td>0.0</td>\n",
       "      <td>0.0</td>\n",
       "      <td>0.000000</td>\n",
       "      <td>0.0</td>\n",
       "      <td>0.0</td>\n",
       "      <td>0.0</td>\n",
       "      <td>0.0</td>\n",
       "      <td>0.0</td>\n",
       "      <td>0.0</td>\n",
       "      <td>0.0</td>\n",
       "      <td>...</td>\n",
       "      <td>0.0</td>\n",
       "      <td>0.0</td>\n",
       "      <td>0.0</td>\n",
       "      <td>0.0</td>\n",
       "      <td>0.0</td>\n",
       "      <td>0.0</td>\n",
       "      <td>0.0</td>\n",
       "      <td>0.0</td>\n",
       "      <td>0.0</td>\n",
       "      <td>0.0</td>\n",
       "    </tr>\n",
       "    <tr>\n",
       "      <th>4</th>\n",
       "      <td>0.0</td>\n",
       "      <td>0.0</td>\n",
       "      <td>0.000000</td>\n",
       "      <td>0.0</td>\n",
       "      <td>0.0</td>\n",
       "      <td>0.0</td>\n",
       "      <td>0.0</td>\n",
       "      <td>0.0</td>\n",
       "      <td>0.0</td>\n",
       "      <td>0.0</td>\n",
       "      <td>...</td>\n",
       "      <td>0.0</td>\n",
       "      <td>0.0</td>\n",
       "      <td>0.0</td>\n",
       "      <td>0.0</td>\n",
       "      <td>0.0</td>\n",
       "      <td>0.0</td>\n",
       "      <td>0.0</td>\n",
       "      <td>0.0</td>\n",
       "      <td>0.0</td>\n",
       "      <td>0.0</td>\n",
       "    </tr>\n",
       "  </tbody>\n",
       "</table>\n",
       "<p>5 rows × 14182 columns</p>\n",
       "</div>"
      ],
      "text/plain": [
       "   aback  abacus   abandon  abandoned  abandonment  abate  abatement  abba  \\\n",
       "0    0.0     0.0  0.000000        0.0          0.0    0.0        0.0   0.0   \n",
       "1    0.0     0.0  0.001353        0.0          0.0    0.0        0.0   0.0   \n",
       "2    0.0     0.0  0.000000        0.0          0.0    0.0        0.0   0.0   \n",
       "3    0.0     0.0  0.000000        0.0          0.0    0.0        0.0   0.0   \n",
       "4    0.0     0.0  0.000000        0.0          0.0    0.0        0.0   0.0   \n",
       "\n",
       "   abbot  abbreviate  ...   zephyr  zeppelin  zest  zip  zodiac  zone  zoo  \\\n",
       "0    0.0         0.0  ...      0.0       0.0   0.0  0.0     0.0   0.0  0.0   \n",
       "1    0.0         0.0  ...      0.0       0.0   0.0  0.0     0.0   0.0  0.0   \n",
       "2    0.0         0.0  ...      0.0       0.0   0.0  0.0     0.0   0.0  0.0   \n",
       "3    0.0         0.0  ...      0.0       0.0   0.0  0.0     0.0   0.0  0.0   \n",
       "4    0.0         0.0  ...      0.0       0.0   0.0  0.0     0.0   0.0  0.0   \n",
       "\n",
       "   zoological  zoology  zoom  \n",
       "0         0.0      0.0   0.0  \n",
       "1         0.0      0.0   0.0  \n",
       "2         0.0      0.0   0.0  \n",
       "3         0.0      0.0   0.0  \n",
       "4         0.0      0.0   0.0  \n",
       "\n",
       "[5 rows x 14182 columns]"
      ]
     },
     "execution_count": 184,
     "metadata": {},
     "output_type": "execute_result"
    }
   ],
   "source": [
    "from sklearn.feature_extraction.text import TfidfVectorizer\n",
    "\n",
    "# I only want you to look for words in the emotional lexicon\n",
    "# because we don't know what's up with the other words\n",
    "vec = TfidfVectorizer(vocabulary=emolex_df.word,\n",
    "                      use_idf=False, \n",
    "                      norm='l1') # ELL - ONE\n",
    "matrix = vec.fit_transform(speeches_df['content'])\n",
    "vocab = vec.get_feature_names()\n",
    "wordcount_df = pd.DataFrame(matrix.toarray(), columns=vocab)\n",
    "wordcount_df.head()"
   ]
  },
  {
   "cell_type": "code",
   "execution_count": 185,
   "metadata": {
    "collapsed": true
   },
   "outputs": [],
   "source": [
    "# wordcount_df.sort_values(by='america', ascending=False).head(5)"
   ]
  },
  {
   "cell_type": "code",
   "execution_count": 186,
   "metadata": {
    "collapsed": true
   },
   "outputs": [],
   "source": [
    "# wordcount_df[['murder', 'america', 'great', 'prison', 'immigrant']].head(2)"
   ]
  },
  {
   "cell_type": "code",
   "execution_count": 187,
   "metadata": {},
   "outputs": [],
   "source": [
    "# bad bad bad = 100% negative\n",
    "# bad bad evil evil = 50% bad + 50% evil = 100% negative\n",
    "# bad fish evil fish = 25% bad + 25% evil = 50% negative \n",
    "# awful % + hate % + bad % + worse % + evil % = negative %\n",
    "\n",
    "#wordcount_df[['awful', 'hate', 'bad', 'worse', 'evil']].sum(axis=1)"
   ]
  },
  {
   "cell_type": "code",
   "execution_count": 188,
   "metadata": {
    "scrolled": true
   },
   "outputs": [
    {
     "data": {
      "text/html": [
       "<div>\n",
       "<style>\n",
       "    .dataframe thead tr:only-child th {\n",
       "        text-align: right;\n",
       "    }\n",
       "\n",
       "    .dataframe thead th {\n",
       "        text-align: left;\n",
       "    }\n",
       "\n",
       "    .dataframe tbody tr th {\n",
       "        vertical-align: top;\n",
       "    }\n",
       "</style>\n",
       "<table border=\"1\" class=\"dataframe\">\n",
       "  <thead>\n",
       "    <tr style=\"text-align: right;\">\n",
       "      <th>emotion</th>\n",
       "      <th>word</th>\n",
       "      <th>anger</th>\n",
       "      <th>anticipation</th>\n",
       "      <th>disgust</th>\n",
       "      <th>fear</th>\n",
       "      <th>joy</th>\n",
       "      <th>negative</th>\n",
       "      <th>positive</th>\n",
       "      <th>sadness</th>\n",
       "      <th>surprise</th>\n",
       "      <th>trust</th>\n",
       "    </tr>\n",
       "  </thead>\n",
       "  <tbody>\n",
       "    <tr>\n",
       "      <th>0</th>\n",
       "      <td>aback</td>\n",
       "      <td>0</td>\n",
       "      <td>0</td>\n",
       "      <td>0</td>\n",
       "      <td>0</td>\n",
       "      <td>0</td>\n",
       "      <td>0</td>\n",
       "      <td>0</td>\n",
       "      <td>0</td>\n",
       "      <td>0</td>\n",
       "      <td>0</td>\n",
       "    </tr>\n",
       "    <tr>\n",
       "      <th>1</th>\n",
       "      <td>abacus</td>\n",
       "      <td>0</td>\n",
       "      <td>0</td>\n",
       "      <td>0</td>\n",
       "      <td>0</td>\n",
       "      <td>0</td>\n",
       "      <td>0</td>\n",
       "      <td>0</td>\n",
       "      <td>0</td>\n",
       "      <td>0</td>\n",
       "      <td>1</td>\n",
       "    </tr>\n",
       "    <tr>\n",
       "      <th>2</th>\n",
       "      <td>abandon</td>\n",
       "      <td>0</td>\n",
       "      <td>0</td>\n",
       "      <td>0</td>\n",
       "      <td>1</td>\n",
       "      <td>0</td>\n",
       "      <td>1</td>\n",
       "      <td>0</td>\n",
       "      <td>1</td>\n",
       "      <td>0</td>\n",
       "      <td>0</td>\n",
       "    </tr>\n",
       "    <tr>\n",
       "      <th>3</th>\n",
       "      <td>abandoned</td>\n",
       "      <td>1</td>\n",
       "      <td>0</td>\n",
       "      <td>0</td>\n",
       "      <td>1</td>\n",
       "      <td>0</td>\n",
       "      <td>1</td>\n",
       "      <td>0</td>\n",
       "      <td>1</td>\n",
       "      <td>0</td>\n",
       "      <td>0</td>\n",
       "    </tr>\n",
       "    <tr>\n",
       "      <th>4</th>\n",
       "      <td>abandonment</td>\n",
       "      <td>1</td>\n",
       "      <td>0</td>\n",
       "      <td>0</td>\n",
       "      <td>1</td>\n",
       "      <td>0</td>\n",
       "      <td>1</td>\n",
       "      <td>0</td>\n",
       "      <td>1</td>\n",
       "      <td>1</td>\n",
       "      <td>0</td>\n",
       "    </tr>\n",
       "  </tbody>\n",
       "</table>\n",
       "</div>"
      ],
      "text/plain": [
       "emotion         word  anger  anticipation  disgust  fear  joy  negative  \\\n",
       "0              aback      0             0        0     0    0         0   \n",
       "1             abacus      0             0        0     0    0         0   \n",
       "2            abandon      0             0        0     1    0         1   \n",
       "3          abandoned      1             0        0     1    0         1   \n",
       "4        abandonment      1             0        0     1    0         1   \n",
       "\n",
       "emotion  positive  sadness  surprise  trust  \n",
       "0               0        0         0      0  \n",
       "1               0        0         0      1  \n",
       "2               0        1         0      0  \n",
       "3               0        1         0      0  \n",
       "4               0        1         1      0  "
      ]
     },
     "execution_count": 188,
     "metadata": {},
     "output_type": "execute_result"
    }
   ],
   "source": [
    "emolex_df.head()"
   ]
  },
  {
   "cell_type": "code",
   "execution_count": 189,
   "metadata": {},
   "outputs": [
    {
     "data": {
      "text/html": [
       "<div>\n",
       "<style>\n",
       "    .dataframe thead tr:only-child th {\n",
       "        text-align: right;\n",
       "    }\n",
       "\n",
       "    .dataframe thead th {\n",
       "        text-align: left;\n",
       "    }\n",
       "\n",
       "    .dataframe tbody tr th {\n",
       "        vertical-align: top;\n",
       "    }\n",
       "</style>\n",
       "<table border=\"1\" class=\"dataframe\">\n",
       "  <thead>\n",
       "    <tr style=\"text-align: right;\">\n",
       "      <th>emotion</th>\n",
       "      <th>word</th>\n",
       "      <th>anger</th>\n",
       "      <th>anticipation</th>\n",
       "      <th>disgust</th>\n",
       "      <th>fear</th>\n",
       "      <th>joy</th>\n",
       "      <th>negative</th>\n",
       "      <th>positive</th>\n",
       "      <th>sadness</th>\n",
       "      <th>surprise</th>\n",
       "      <th>trust</th>\n",
       "    </tr>\n",
       "  </thead>\n",
       "  <tbody>\n",
       "    <tr>\n",
       "      <th>3</th>\n",
       "      <td>abandoned</td>\n",
       "      <td>1</td>\n",
       "      <td>0</td>\n",
       "      <td>0</td>\n",
       "      <td>1</td>\n",
       "      <td>0</td>\n",
       "      <td>1</td>\n",
       "      <td>0</td>\n",
       "      <td>1</td>\n",
       "      <td>0</td>\n",
       "      <td>0</td>\n",
       "    </tr>\n",
       "    <tr>\n",
       "      <th>4</th>\n",
       "      <td>abandonment</td>\n",
       "      <td>1</td>\n",
       "      <td>0</td>\n",
       "      <td>0</td>\n",
       "      <td>1</td>\n",
       "      <td>0</td>\n",
       "      <td>1</td>\n",
       "      <td>0</td>\n",
       "      <td>1</td>\n",
       "      <td>1</td>\n",
       "      <td>0</td>\n",
       "    </tr>\n",
       "    <tr>\n",
       "      <th>17</th>\n",
       "      <td>abhor</td>\n",
       "      <td>1</td>\n",
       "      <td>0</td>\n",
       "      <td>1</td>\n",
       "      <td>1</td>\n",
       "      <td>0</td>\n",
       "      <td>1</td>\n",
       "      <td>0</td>\n",
       "      <td>0</td>\n",
       "      <td>0</td>\n",
       "      <td>0</td>\n",
       "    </tr>\n",
       "    <tr>\n",
       "      <th>18</th>\n",
       "      <td>abhorrent</td>\n",
       "      <td>1</td>\n",
       "      <td>0</td>\n",
       "      <td>1</td>\n",
       "      <td>1</td>\n",
       "      <td>0</td>\n",
       "      <td>1</td>\n",
       "      <td>0</td>\n",
       "      <td>0</td>\n",
       "      <td>0</td>\n",
       "      <td>0</td>\n",
       "    </tr>\n",
       "    <tr>\n",
       "      <th>27</th>\n",
       "      <td>abolish</td>\n",
       "      <td>1</td>\n",
       "      <td>0</td>\n",
       "      <td>0</td>\n",
       "      <td>0</td>\n",
       "      <td>0</td>\n",
       "      <td>1</td>\n",
       "      <td>0</td>\n",
       "      <td>0</td>\n",
       "      <td>0</td>\n",
       "      <td>0</td>\n",
       "    </tr>\n",
       "  </tbody>\n",
       "</table>\n",
       "</div>"
      ],
      "text/plain": [
       "emotion         word  anger  anticipation  disgust  fear  joy  negative  \\\n",
       "3          abandoned      1             0        0     1    0         1   \n",
       "4        abandonment      1             0        0     1    0         1   \n",
       "17             abhor      1             0        1     1    0         1   \n",
       "18         abhorrent      1             0        1     1    0         1   \n",
       "27           abolish      1             0        0     0    0         1   \n",
       "\n",
       "emotion  positive  sadness  surprise  trust  \n",
       "3               0        1         0      0  \n",
       "4               0        1         1      0  \n",
       "17              0        0         0      0  \n",
       "18              0        0         0      0  \n",
       "27              0        0         0      0  "
      ]
     },
     "execution_count": 189,
     "metadata": {},
     "output_type": "execute_result"
    }
   ],
   "source": [
    "emolex_df[emolex_df.anger == 1].head()"
   ]
  },
  {
   "cell_type": "code",
   "execution_count": 190,
   "metadata": {},
   "outputs": [
    {
     "data": {
      "text/plain": [
       "3       abandoned\n",
       "4     abandonment\n",
       "17          abhor\n",
       "18      abhorrent\n",
       "27        abolish\n",
       "Name: word, dtype: object"
      ]
     },
     "execution_count": 190,
     "metadata": {},
     "output_type": "execute_result"
    }
   ],
   "source": [
    "# Get your list of angry words\n",
    "angry_words = emolex_df[emolex_df.anger == 1]['word']\n",
    "angry_words.head()"
   ]
  },
  {
   "cell_type": "code",
   "execution_count": 191,
   "metadata": {
    "scrolled": true
   },
   "outputs": [
    {
     "data": {
      "text/html": [
       "<div>\n",
       "<style>\n",
       "    .dataframe thead tr:only-child th {\n",
       "        text-align: right;\n",
       "    }\n",
       "\n",
       "    .dataframe thead th {\n",
       "        text-align: left;\n",
       "    }\n",
       "\n",
       "    .dataframe tbody tr th {\n",
       "        vertical-align: top;\n",
       "    }\n",
       "</style>\n",
       "<table border=\"1\" class=\"dataframe\">\n",
       "  <thead>\n",
       "    <tr style=\"text-align: right;\">\n",
       "      <th></th>\n",
       "      <th>abandoned</th>\n",
       "      <th>abandonment</th>\n",
       "      <th>abhor</th>\n",
       "      <th>abhorrent</th>\n",
       "      <th>abolish</th>\n",
       "      <th>abomination</th>\n",
       "      <th>abuse</th>\n",
       "      <th>accursed</th>\n",
       "      <th>accusation</th>\n",
       "      <th>accused</th>\n",
       "      <th>...</th>\n",
       "      <th>wreck</th>\n",
       "      <th>wrecked</th>\n",
       "      <th>wretch</th>\n",
       "      <th>wring</th>\n",
       "      <th>wrongdoing</th>\n",
       "      <th>wrongful</th>\n",
       "      <th>wrongly</th>\n",
       "      <th>yell</th>\n",
       "      <th>yelp</th>\n",
       "      <th>youth</th>\n",
       "    </tr>\n",
       "  </thead>\n",
       "  <tbody>\n",
       "    <tr>\n",
       "      <th>0</th>\n",
       "      <td>0.0</td>\n",
       "      <td>0.0</td>\n",
       "      <td>0.0</td>\n",
       "      <td>0.0</td>\n",
       "      <td>0.0</td>\n",
       "      <td>0.0</td>\n",
       "      <td>0.0</td>\n",
       "      <td>0.0</td>\n",
       "      <td>0.0</td>\n",
       "      <td>0.0</td>\n",
       "      <td>...</td>\n",
       "      <td>0.0</td>\n",
       "      <td>0.0</td>\n",
       "      <td>0.0</td>\n",
       "      <td>0.0</td>\n",
       "      <td>0.0</td>\n",
       "      <td>0.0</td>\n",
       "      <td>0.0</td>\n",
       "      <td>0.0</td>\n",
       "      <td>0.0</td>\n",
       "      <td>0.0</td>\n",
       "    </tr>\n",
       "    <tr>\n",
       "      <th>1</th>\n",
       "      <td>0.0</td>\n",
       "      <td>0.0</td>\n",
       "      <td>0.0</td>\n",
       "      <td>0.0</td>\n",
       "      <td>0.0</td>\n",
       "      <td>0.0</td>\n",
       "      <td>0.0</td>\n",
       "      <td>0.0</td>\n",
       "      <td>0.0</td>\n",
       "      <td>0.0</td>\n",
       "      <td>...</td>\n",
       "      <td>0.0</td>\n",
       "      <td>0.0</td>\n",
       "      <td>0.0</td>\n",
       "      <td>0.0</td>\n",
       "      <td>0.0</td>\n",
       "      <td>0.0</td>\n",
       "      <td>0.0</td>\n",
       "      <td>0.0</td>\n",
       "      <td>0.0</td>\n",
       "      <td>0.0</td>\n",
       "    </tr>\n",
       "    <tr>\n",
       "      <th>2</th>\n",
       "      <td>0.0</td>\n",
       "      <td>0.0</td>\n",
       "      <td>0.0</td>\n",
       "      <td>0.0</td>\n",
       "      <td>0.0</td>\n",
       "      <td>0.0</td>\n",
       "      <td>0.0</td>\n",
       "      <td>0.0</td>\n",
       "      <td>0.0</td>\n",
       "      <td>0.0</td>\n",
       "      <td>...</td>\n",
       "      <td>0.0</td>\n",
       "      <td>0.0</td>\n",
       "      <td>0.0</td>\n",
       "      <td>0.0</td>\n",
       "      <td>0.0</td>\n",
       "      <td>0.0</td>\n",
       "      <td>0.0</td>\n",
       "      <td>0.0</td>\n",
       "      <td>0.0</td>\n",
       "      <td>0.0</td>\n",
       "    </tr>\n",
       "    <tr>\n",
       "      <th>3</th>\n",
       "      <td>0.0</td>\n",
       "      <td>0.0</td>\n",
       "      <td>0.0</td>\n",
       "      <td>0.0</td>\n",
       "      <td>0.0</td>\n",
       "      <td>0.0</td>\n",
       "      <td>0.0</td>\n",
       "      <td>0.0</td>\n",
       "      <td>0.0</td>\n",
       "      <td>0.0</td>\n",
       "      <td>...</td>\n",
       "      <td>0.0</td>\n",
       "      <td>0.0</td>\n",
       "      <td>0.0</td>\n",
       "      <td>0.0</td>\n",
       "      <td>0.0</td>\n",
       "      <td>0.0</td>\n",
       "      <td>0.0</td>\n",
       "      <td>0.0</td>\n",
       "      <td>0.0</td>\n",
       "      <td>0.0</td>\n",
       "    </tr>\n",
       "    <tr>\n",
       "      <th>4</th>\n",
       "      <td>0.0</td>\n",
       "      <td>0.0</td>\n",
       "      <td>0.0</td>\n",
       "      <td>0.0</td>\n",
       "      <td>0.0</td>\n",
       "      <td>0.0</td>\n",
       "      <td>0.0</td>\n",
       "      <td>0.0</td>\n",
       "      <td>0.0</td>\n",
       "      <td>0.0</td>\n",
       "      <td>...</td>\n",
       "      <td>0.0</td>\n",
       "      <td>0.0</td>\n",
       "      <td>0.0</td>\n",
       "      <td>0.0</td>\n",
       "      <td>0.0</td>\n",
       "      <td>0.0</td>\n",
       "      <td>0.0</td>\n",
       "      <td>0.0</td>\n",
       "      <td>0.0</td>\n",
       "      <td>0.0</td>\n",
       "    </tr>\n",
       "  </tbody>\n",
       "</table>\n",
       "<p>5 rows × 1247 columns</p>\n",
       "</div>"
      ],
      "text/plain": [
       "   abandoned  abandonment  abhor  abhorrent  abolish  abomination  abuse  \\\n",
       "0        0.0          0.0    0.0        0.0      0.0          0.0    0.0   \n",
       "1        0.0          0.0    0.0        0.0      0.0          0.0    0.0   \n",
       "2        0.0          0.0    0.0        0.0      0.0          0.0    0.0   \n",
       "3        0.0          0.0    0.0        0.0      0.0          0.0    0.0   \n",
       "4        0.0          0.0    0.0        0.0      0.0          0.0    0.0   \n",
       "\n",
       "   accursed  accusation  accused  ...    wreck  wrecked  wretch  wring  \\\n",
       "0       0.0         0.0      0.0  ...      0.0      0.0     0.0    0.0   \n",
       "1       0.0         0.0      0.0  ...      0.0      0.0     0.0    0.0   \n",
       "2       0.0         0.0      0.0  ...      0.0      0.0     0.0    0.0   \n",
       "3       0.0         0.0      0.0  ...      0.0      0.0     0.0    0.0   \n",
       "4       0.0         0.0      0.0  ...      0.0      0.0     0.0    0.0   \n",
       "\n",
       "   wrongdoing  wrongful  wrongly  yell  yelp  youth  \n",
       "0         0.0       0.0      0.0   0.0   0.0    0.0  \n",
       "1         0.0       0.0      0.0   0.0   0.0    0.0  \n",
       "2         0.0       0.0      0.0   0.0   0.0    0.0  \n",
       "3         0.0       0.0      0.0   0.0   0.0    0.0  \n",
       "4         0.0       0.0      0.0   0.0   0.0    0.0  \n",
       "\n",
       "[5 rows x 1247 columns]"
      ]
     },
     "execution_count": 191,
     "metadata": {},
     "output_type": "execute_result"
    }
   ],
   "source": [
    "wordcount_df[angry_words].head()"
   ]
  },
  {
   "cell_type": "code",
   "execution_count": 192,
   "metadata": {},
   "outputs": [
    {
     "data": {
      "text/html": [
       "<div>\n",
       "<style>\n",
       "    .dataframe thead tr:only-child th {\n",
       "        text-align: right;\n",
       "    }\n",
       "\n",
       "    .dataframe thead th {\n",
       "        text-align: left;\n",
       "    }\n",
       "\n",
       "    .dataframe tbody tr th {\n",
       "        vertical-align: top;\n",
       "    }\n",
       "</style>\n",
       "<table border=\"1\" class=\"dataframe\">\n",
       "  <thead>\n",
       "    <tr style=\"text-align: right;\">\n",
       "      <th></th>\n",
       "      <th>name</th>\n",
       "      <th>date</th>\n",
       "      <th>content</th>\n",
       "      <th>filename</th>\n",
       "      <th>anger</th>\n",
       "    </tr>\n",
       "  </thead>\n",
       "  <tbody>\n",
       "    <tr>\n",
       "      <th>0</th>\n",
       "      <td>Address at the National Constitution Center in...</td>\n",
       "      <td>March 18, 2008</td>\n",
       "      <td>“We the people, in order to form a more perfec...</td>\n",
       "      <td>http://www.presidency.ucsb.edu/ws/index.php?pi...</td>\n",
       "      <td>0.084622</td>\n",
       "    </tr>\n",
       "    <tr>\n",
       "      <th>1</th>\n",
       "      <td>Address in Berlin at the Victory Column in Tie...</td>\n",
       "      <td>July 24, 2008</td>\n",
       "      <td>Thank you to the citizens of Berlin and to the...</td>\n",
       "      <td>http://www.presidency.ucsb.edu/ws/index.php?pi...</td>\n",
       "      <td>0.064953</td>\n",
       "    </tr>\n",
       "    <tr>\n",
       "      <th>2</th>\n",
       "      <td>Address in Chicago Accepting Election as the 4...</td>\n",
       "      <td>November 4, 2008</td>\n",
       "      <td>If there is anyone out there who still doubts ...</td>\n",
       "      <td>http://www.presidency.ucsb.edu/ws/index.php?pi...</td>\n",
       "      <td>0.039171</td>\n",
       "    </tr>\n",
       "  </tbody>\n",
       "</table>\n",
       "</div>"
      ],
      "text/plain": [
       "                                                name              date  \\\n",
       "0  Address at the National Constitution Center in...    March 18, 2008   \n",
       "1  Address in Berlin at the Victory Column in Tie...     July 24, 2008   \n",
       "2  Address in Chicago Accepting Election as the 4...  November 4, 2008   \n",
       "\n",
       "                                             content  \\\n",
       "0  “We the people, in order to form a more perfec...   \n",
       "1  Thank you to the citizens of Berlin and to the...   \n",
       "2  If there is anyone out there who still doubts ...   \n",
       "\n",
       "                                            filename     anger  \n",
       "0  http://www.presidency.ucsb.edu/ws/index.php?pi...  0.084622  \n",
       "1  http://www.presidency.ucsb.edu/ws/index.php?pi...  0.064953  \n",
       "2  http://www.presidency.ucsb.edu/ws/index.php?pi...  0.039171  "
      ]
     },
     "execution_count": 192,
     "metadata": {},
     "output_type": "execute_result"
    }
   ],
   "source": [
    "# Only give me the columns of angry words\n",
    "speeches_df['anger'] = wordcount_df[angry_words].sum(axis=1)\n",
    "speeches_df.head(3)"
   ]
  },
  {
   "cell_type": "markdown",
   "metadata": {},
   "source": []
  },
  {
   "cell_type": "code",
   "execution_count": 193,
   "metadata": {},
   "outputs": [
    {
     "data": {
      "text/plain": [
       "2         abandon\n",
       "3       abandoned\n",
       "4     abandonment\n",
       "13      abduction\n",
       "17          abhor\n",
       "Name: word, dtype: object"
      ]
     },
     "execution_count": 193,
     "metadata": {},
     "output_type": "execute_result"
    }
   ],
   "source": [
    "# Get your list of positive words\n",
    "positive_words = emolex_df[emolex_df.positive == 1]['word']\n",
    "\n",
    "\n",
    "# Get your list of sadness words\n",
    "sadness_words = emolex_df[emolex_df.sadness == 1]['word']\n",
    "sadness_words.head()\n",
    "\n",
    "# Get your list of surprise words\n",
    "surprise_words = emolex_df[emolex_df.surprise == 1]['word']\n",
    "surprise_words.head()\n",
    "\n",
    "# Get your list of disgust words\n",
    "disgust_words = emolex_df[emolex_df.disgust == 1]['word']\n",
    "#disgust_words.head()\n",
    "\n",
    "# Get your list of anticipation words\n",
    "anticipation_words = emolex_df[emolex_df.anticipation == 1]['word']\n",
    "#anticipation_words.head()\n",
    "\n",
    "# Get your list of negative words\n",
    "negative_words = emolex_df[emolex_df.negative == 1]['word']\n",
    "negative_words.head()\n",
    "\n",
    "\n",
    "# Get your list of joy words\n",
    "joy_words = emolex_df[emolex_df.joy == 1]['word']\n",
    "joy_words.head()\n",
    "\n",
    "# Get your list of trust words\n",
    "trust_words = emolex_df[emolex_df.trust == 1]['word']\n",
    "trust_words.head()\n",
    "\n",
    "\n",
    "# Get your list of fear words\n",
    "fear_words = emolex_df[emolex_df.fear == 1]['word']\n",
    "fear_words.head()\n",
    "\n"
   ]
  },
  {
   "cell_type": "code",
   "execution_count": 194,
   "metadata": {
    "collapsed": true
   },
   "outputs": [],
   "source": [
    "# Only give me the columns of angry words\n",
    "speeches_df['positivity'] = wordcount_df[positive_words].sum(axis=1)\n",
    "\n",
    "\n",
    "speeches_df['joy'] = wordcount_df[joy_words].sum(axis=1)\n",
    "\n",
    "\n",
    "speeches_df['disgust'] = wordcount_df[disgust_words].sum(axis=1)\n",
    "\n",
    "\n",
    "\n",
    "speeches_df['surprise'] = wordcount_df[surprise_words].sum(axis=1)\n",
    "\n",
    "speeches_df['trust'] = wordcount_df[trust_words].sum(axis=1)\n",
    "\n",
    "\n",
    "speeches_df['anticipation'] = wordcount_df[anticipation_words].sum(axis=1)\n",
    "\n",
    "\n",
    "speeches_df['sadness'] = wordcount_df[sadness_words].sum(axis=1)\n",
    "\n",
    "\n",
    "speeches_df['negative'] = wordcount_df[negative_words].sum(axis=1)\n",
    "\n",
    "\n",
    "speeches_df['fear'] = wordcount_df[fear_words].sum(axis=1)\n",
    "\n",
    "\n"
   ]
  },
  {
   "cell_type": "code",
   "execution_count": 195,
   "metadata": {},
   "outputs": [
    {
     "data": {
      "text/plain": [
       "<matplotlib.axes._subplots.AxesSubplot at 0x113c06b70>"
      ]
     },
     "execution_count": 195,
     "metadata": {},
     "output_type": "execute_result"
    },
    {
     "data": {
      "image/png": "[encoded data removed]",
      "text/plain": [
       "<matplotlib.figure.Figure at 0x110c38ba8>"
      ]
     },
     "metadata": {},
     "output_type": "display_data"
    }
   ],
   "source": [
    "speeches_df.plot(x='positivity', y='anger', kind='scatter')"
   ]
  },
  {
   "cell_type": "code",
   "execution_count": 196,
   "metadata": {},
   "outputs": [
    {
     "data": {
      "text/plain": [
       "<matplotlib.axes._subplots.AxesSubplot at 0x110c54588>"
      ]
     },
     "execution_count": 196,
     "metadata": {},
     "output_type": "execute_result"
    },
    {
     "data": {
      "image/png": "[encoded data removed]",
      "text/plain": [
       "<matplotlib.figure.Figure at 0x113b70390>"
      ]
     },
     "metadata": {},
     "output_type": "display_data"
    }
   ],
   "source": [
    "speeches_df.plot(x='positivity', y='disgust', kind='scatter')"
   ]
  },
  {
   "cell_type": "code",
   "execution_count": 197,
   "metadata": {},
   "outputs": [
    {
     "data": {
      "text/plain": [
       "<matplotlib.axes._subplots.AxesSubplot at 0x113b781d0>"
      ]
     },
     "execution_count": 197,
     "metadata": {},
     "output_type": "execute_result"
    },
    {
     "data": {
      "image/png": "[encoded data removed]",
      "text/plain": [
       "<matplotlib.figure.Figure at 0x113ba3eb8>"
      ]
     },
     "metadata": {},
     "output_type": "display_data"
    }
   ],
   "source": [
    "speeches_df.plot(x='positivity', y='joy', kind='scatter')"
   ]
  },
  {
   "cell_type": "code",
   "execution_count": 198,
   "metadata": {},
   "outputs": [
    {
     "data": {
      "text/plain": [
       "<matplotlib.axes._subplots.AxesSubplot at 0x11425a160>"
      ]
     },
     "execution_count": 198,
     "metadata": {},
     "output_type": "execute_result"
    },
    {
     "data": {
      "image/png": "[encoded data removed]",
      "text/plain": [
       "<matplotlib.figure.Figure at 0x1142da4a8>"
      ]
     },
     "metadata": {},
     "output_type": "display_data"
    }
   ],
   "source": [
    "speeches_df.plot(x='positivity', y='sadness', kind='scatter')"
   ]
  },
  {
   "cell_type": "code",
   "execution_count": 199,
   "metadata": {},
   "outputs": [
    {
     "data": {
      "text/plain": [
       "<matplotlib.axes._subplots.AxesSubplot at 0x114820320>"
      ]
     },
     "execution_count": 199,
     "metadata": {},
     "output_type": "execute_result"
    },
    {
     "data": {
      "image/png": "[encoded data removed]",
      "text/plain": [
       "<matplotlib.figure.Figure at 0x11483bf98>"
      ]
     },
     "metadata": {},
     "output_type": "display_data"
    }
   ],
   "source": [
    "speeches_df.plot(x='sadness', y='anger', kind='scatter')"
   ]
  },
  {
   "cell_type": "code",
   "execution_count": 200,
   "metadata": {},
   "outputs": [
    {
     "data": {
      "text/plain": [
       "<matplotlib.axes._subplots.AxesSubplot at 0x11486ed30>"
      ]
     },
     "execution_count": 200,
     "metadata": {},
     "output_type": "execute_result"
    },
    {
     "data": {
      "image/png": "[encoded data removed]",
      "text/plain": [
       "<matplotlib.figure.Figure at 0x113b70b70>"
      ]
     },
     "metadata": {},
     "output_type": "display_data"
    }
   ],
   "source": [
    "speeches_df.plot(x='disgust', y='anger', kind='scatter')"
   ]
  },
  {
   "cell_type": "code",
   "execution_count": 201,
   "metadata": {},
   "outputs": [
    {
     "data": {
      "text/plain": [
       "<matplotlib.axes._subplots.AxesSubplot at 0x115463da0>"
      ]
     },
     "execution_count": 201,
     "metadata": {},
     "output_type": "execute_result"
    },
    {
     "data": {
      "image/png": "[encoded data removed]",
      "text/plain": [
       "<matplotlib.figure.Figure at 0x114343278>"
      ]
     },
     "metadata": {},
     "output_type": "display_data"
    }
   ],
   "source": [
    "speeches_df.plot(x='positivity', y='trust', kind='scatter')"
   ]
  },
  {
   "cell_type": "code",
   "execution_count": 202,
   "metadata": {},
   "outputs": [
    {
     "data": {
      "text/plain": [
       "<matplotlib.axes._subplots.AxesSubplot at 0x1155772e8>"
      ]
     },
     "execution_count": 202,
     "metadata": {},
     "output_type": "execute_result"
    },
    {
     "data": {
      "image/png": "[encoded data removed]",
      "text/plain": [
       "<matplotlib.figure.Figure at 0x11562fe80>"
      ]
     },
     "metadata": {},
     "output_type": "display_data"
    }
   ],
   "source": [
    "speeches_df.plot(x='positivity', y='anticipation', kind='scatter')"
   ]
  },
  {
   "cell_type": "code",
   "execution_count": 203,
   "metadata": {},
   "outputs": [
    {
     "data": {
      "text/plain": [
       "<matplotlib.axes._subplots.AxesSubplot at 0x135dcc0f0>"
      ]
     },
     "execution_count": 203,
     "metadata": {},
     "output_type": "execute_result"
    },
    {
     "data": {
      "image/png": "[encoded data removed]",
      "text/plain": [
       "<matplotlib.figure.Figure at 0x135ddc3c8>"
      ]
     },
     "metadata": {},
     "output_type": "display_data"
    }
   ],
   "source": [
    "speeches_df.plot(x='surprise', y='anger', kind='scatter')"
   ]
  },
  {
   "cell_type": "code",
   "execution_count": 204,
   "metadata": {},
   "outputs": [
    {
     "data": {
      "text/plain": [
       "<matplotlib.axes._subplots.AxesSubplot at 0x135ec1208>"
      ]
     },
     "execution_count": 204,
     "metadata": {},
     "output_type": "execute_result"
    },
    {
     "data": {
      "image/png": "[encoded data removed]",
      "text/plain": [
       "<matplotlib.figure.Figure at 0x135ecde48>"
      ]
     },
     "metadata": {},
     "output_type": "display_data"
    }
   ],
   "source": [
    "speeches_df.plot(x='negative', y='sadness', kind='scatter')"
   ]
  },
  {
   "cell_type": "code",
   "execution_count": null,
   "metadata": {
    "collapsed": true
   },
   "outputs": [],
   "source": []
  },
  {
   "cell_type": "markdown",
   "metadata": {},
   "source": [
    "# Reading in the Obama speeches\n",
    "\n"
   ]
  },
  {
   "cell_type": "code",
   "execution_count": 251,
   "metadata": {},
   "outputs": [
    {
     "data": {
      "text/html": [
       "<div>\n",
       "<style>\n",
       "    .dataframe thead tr:only-child th {\n",
       "        text-align: right;\n",
       "    }\n",
       "\n",
       "    .dataframe thead th {\n",
       "        text-align: left;\n",
       "    }\n",
       "\n",
       "    .dataframe tbody tr th {\n",
       "        vertical-align: top;\n",
       "    }\n",
       "</style>\n",
       "<table border=\"1\" class=\"dataframe\">\n",
       "  <thead>\n",
       "    <tr style=\"text-align: right;\">\n",
       "      <th></th>\n",
       "      <th>actual_president_guess</th>\n",
       "      <th>content</th>\n",
       "      <th>date</th>\n",
       "      <th>president</th>\n",
       "      <th>title</th>\n",
       "      <th>url</th>\n",
       "    </tr>\n",
       "  </thead>\n",
       "  <tbody>\n",
       "    <tr>\n",
       "      <th>0</th>\n",
       "      <td>True</td>\n",
       "      <td>james s brady press briefing room p m est the ...</td>\n",
       "      <td>2017-01-18 17:36:00-05:00</td>\n",
       "      <td>Obama</td>\n",
       "      <td>Remarks by the President in Final Press Confer...</td>\n",
       "      <td>https://obamawhitehouse.archives.gov/the-press...</td>\n",
       "    </tr>\n",
       "    <tr>\n",
       "      <th>1</th>\n",
       "      <td>NaN</td>\n",
       "      <td>as prepared for delivery ladies and gentlemen ...</td>\n",
       "      <td>2017-01-18 10:59:14-05:00</td>\n",
       "      <td>Obama</td>\n",
       "      <td>Remarks by Vice President Joe Biden at the Wor...</td>\n",
       "      <td>https://obamawhitehouse.archives.gov/the-press...</td>\n",
       "    </tr>\n",
       "    <tr>\n",
       "      <th>2</th>\n",
       "      <td>NaN</td>\n",
       "      <td>world economic forum davos switzerland the vic...</td>\n",
       "      <td>2017-01-17 06:04:00-05:00</td>\n",
       "      <td>Obama</td>\n",
       "      <td>Remarks by Vice President Joe Biden on The Can...</td>\n",
       "      <td>https://obamawhitehouse.archives.gov/the-press...</td>\n",
       "    </tr>\n",
       "    <tr>\n",
       "      <th>3</th>\n",
       "      <td>NaN</td>\n",
       "      <td>bankova kyiv ukraine the vice president mr pre...</td>\n",
       "      <td>2017-01-17 06:00:00-05:00</td>\n",
       "      <td>Obama</td>\n",
       "      <td>Remarks by Vice President Joe Biden With Ukrai...</td>\n",
       "      <td>https://obamawhitehouse.archives.gov/the-press...</td>\n",
       "    </tr>\n",
       "    <tr>\n",
       "      <th>4</th>\n",
       "      <td>True</td>\n",
       "      <td>east room p m est the president they said this...</td>\n",
       "      <td>2017-01-16 19:08:00-05:00</td>\n",
       "      <td>Obama</td>\n",
       "      <td>Remarks by the President Honoring the World Se...</td>\n",
       "      <td>https://obamawhitehouse.archives.gov/the-press...</td>\n",
       "    </tr>\n",
       "  </tbody>\n",
       "</table>\n",
       "</div>"
      ],
      "text/plain": [
       "  actual_president_guess                                            content  \\\n",
       "0                   True  james s brady press briefing room p m est the ...   \n",
       "1                    NaN  as prepared for delivery ladies and gentlemen ...   \n",
       "2                    NaN  world economic forum davos switzerland the vic...   \n",
       "3                    NaN  bankova kyiv ukraine the vice president mr pre...   \n",
       "4                   True  east room p m est the president they said this...   \n",
       "\n",
       "                        date president  \\\n",
       "0  2017-01-18 17:36:00-05:00     Obama   \n",
       "1  2017-01-18 10:59:14-05:00     Obama   \n",
       "2  2017-01-17 06:04:00-05:00     Obama   \n",
       "3  2017-01-17 06:00:00-05:00     Obama   \n",
       "4  2017-01-16 19:08:00-05:00     Obama   \n",
       "\n",
       "                                               title  \\\n",
       "0  Remarks by the President in Final Press Confer...   \n",
       "1  Remarks by Vice President Joe Biden at the Wor...   \n",
       "2  Remarks by Vice President Joe Biden on The Can...   \n",
       "3  Remarks by Vice President Joe Biden With Ukrai...   \n",
       "4  Remarks by the President Honoring the World Se...   \n",
       "\n",
       "                                                 url  \n",
       "0  https://obamawhitehouse.archives.gov/the-press...  \n",
       "1  https://obamawhitehouse.archives.gov/the-press...  \n",
       "2  https://obamawhitehouse.archives.gov/the-press...  \n",
       "3  https://obamawhitehouse.archives.gov/the-press...  \n",
       "4  https://obamawhitehouse.archives.gov/the-press...  "
      ]
     },
     "execution_count": 251,
     "metadata": {},
     "output_type": "execute_result"
    }
   ],
   "source": [
    "\n",
    "\n",
    "df= pd.read_csv(\"obamasp_presidency.csv\", nrows = 3000, na_values = [\"False\"])\n",
    "df = df.head(30000)\n",
    "df.head(5)"
   ]
  },
  {
   "cell_type": "code",
   "execution_count": 252,
   "metadata": {
    "scrolled": true
   },
   "outputs": [
    {
     "data": {
      "text/html": [
       "<div>\n",
       "<style>\n",
       "    .dataframe thead tr:only-child th {\n",
       "        text-align: right;\n",
       "    }\n",
       "\n",
       "    .dataframe thead th {\n",
       "        text-align: left;\n",
       "    }\n",
       "\n",
       "    .dataframe tbody tr th {\n",
       "        vertical-align: top;\n",
       "    }\n",
       "</style>\n",
       "<table border=\"1\" class=\"dataframe\">\n",
       "  <thead>\n",
       "    <tr style=\"text-align: right;\">\n",
       "      <th></th>\n",
       "      <th>actual_president_guess</th>\n",
       "      <th>content</th>\n",
       "      <th>date</th>\n",
       "      <th>president</th>\n",
       "      <th>title</th>\n",
       "      <th>url</th>\n",
       "    </tr>\n",
       "  </thead>\n",
       "  <tbody>\n",
       "    <tr>\n",
       "      <th>0</th>\n",
       "      <td>True</td>\n",
       "      <td>james s brady press briefing room p m est the ...</td>\n",
       "      <td>2017-01-18 17:36:00-05:00</td>\n",
       "      <td>Obama</td>\n",
       "      <td>Remarks by the President in Final Press Confer...</td>\n",
       "      <td>https://obamawhitehouse.archives.gov/the-press...</td>\n",
       "    </tr>\n",
       "    <tr>\n",
       "      <th>1</th>\n",
       "      <td>NaN</td>\n",
       "      <td>as prepared for delivery ladies and gentlemen ...</td>\n",
       "      <td>2017-01-18 10:59:14-05:00</td>\n",
       "      <td>Obama</td>\n",
       "      <td>Remarks by Vice President Joe Biden at the Wor...</td>\n",
       "      <td>https://obamawhitehouse.archives.gov/the-press...</td>\n",
       "    </tr>\n",
       "    <tr>\n",
       "      <th>2</th>\n",
       "      <td>NaN</td>\n",
       "      <td>world economic forum davos switzerland the vic...</td>\n",
       "      <td>2017-01-17 06:04:00-05:00</td>\n",
       "      <td>Obama</td>\n",
       "      <td>Remarks by Vice President Joe Biden on The Can...</td>\n",
       "      <td>https://obamawhitehouse.archives.gov/the-press...</td>\n",
       "    </tr>\n",
       "    <tr>\n",
       "      <th>3</th>\n",
       "      <td>NaN</td>\n",
       "      <td>bankova kyiv ukraine the vice president mr pre...</td>\n",
       "      <td>2017-01-17 06:00:00-05:00</td>\n",
       "      <td>Obama</td>\n",
       "      <td>Remarks by Vice President Joe Biden With Ukrai...</td>\n",
       "      <td>https://obamawhitehouse.archives.gov/the-press...</td>\n",
       "    </tr>\n",
       "    <tr>\n",
       "      <th>4</th>\n",
       "      <td>True</td>\n",
       "      <td>east room p m est the president they said this...</td>\n",
       "      <td>2017-01-16 19:08:00-05:00</td>\n",
       "      <td>Obama</td>\n",
       "      <td>Remarks by the President Honoring the World Se...</td>\n",
       "      <td>https://obamawhitehouse.archives.gov/the-press...</td>\n",
       "    </tr>\n",
       "  </tbody>\n",
       "</table>\n",
       "</div>"
      ],
      "text/plain": [
       "  actual_president_guess                                            content  \\\n",
       "0                   True  james s brady press briefing room p m est the ...   \n",
       "1                    NaN  as prepared for delivery ladies and gentlemen ...   \n",
       "2                    NaN  world economic forum davos switzerland the vic...   \n",
       "3                    NaN  bankova kyiv ukraine the vice president mr pre...   \n",
       "4                   True  east room p m est the president they said this...   \n",
       "\n",
       "                        date president  \\\n",
       "0  2017-01-18 17:36:00-05:00     Obama   \n",
       "1  2017-01-18 10:59:14-05:00     Obama   \n",
       "2  2017-01-17 06:04:00-05:00     Obama   \n",
       "3  2017-01-17 06:00:00-05:00     Obama   \n",
       "4  2017-01-16 19:08:00-05:00     Obama   \n",
       "\n",
       "                                               title  \\\n",
       "0  Remarks by the President in Final Press Confer...   \n",
       "1  Remarks by Vice President Joe Biden at the Wor...   \n",
       "2  Remarks by Vice President Joe Biden on The Can...   \n",
       "3  Remarks by Vice President Joe Biden With Ukrai...   \n",
       "4  Remarks by the President Honoring the World Se...   \n",
       "\n",
       "                                                 url  \n",
       "0  https://obamawhitehouse.archives.gov/the-press...  \n",
       "1  https://obamawhitehouse.archives.gov/the-press...  \n",
       "2  https://obamawhitehouse.archives.gov/the-press...  \n",
       "3  https://obamawhitehouse.archives.gov/the-press...  \n",
       "4  https://obamawhitehouse.archives.gov/the-press...  "
      ]
     },
     "execution_count": 252,
     "metadata": {},
     "output_type": "execute_result"
    }
   ],
   "source": [
    "df.head()"
   ]
  },
  {
   "cell_type": "code",
   "execution_count": null,
   "metadata": {},
   "outputs": [],
   "source": []
  },
  {
   "cell_type": "code",
   "execution_count": 253,
   "metadata": {
    "collapsed": true
   },
   "outputs": [],
   "source": [
    "president_speeches_df = df.dropna()"
   ]
  },
  {
   "cell_type": "code",
   "execution_count": 254,
   "metadata": {},
   "outputs": [
    {
     "data": {
      "text/html": [
       "<div>\n",
       "<style>\n",
       "    .dataframe thead tr:only-child th {\n",
       "        text-align: right;\n",
       "    }\n",
       "\n",
       "    .dataframe thead th {\n",
       "        text-align: left;\n",
       "    }\n",
       "\n",
       "    .dataframe tbody tr th {\n",
       "        vertical-align: top;\n",
       "    }\n",
       "</style>\n",
       "<table border=\"1\" class=\"dataframe\">\n",
       "  <thead>\n",
       "    <tr style=\"text-align: right;\">\n",
       "      <th></th>\n",
       "      <th>nothing</th>\n",
       "      <th>content</th>\n",
       "      <th>date</th>\n",
       "      <th>president</th>\n",
       "      <th>filename</th>\n",
       "      <th>url</th>\n",
       "    </tr>\n",
       "  </thead>\n",
       "  <tbody>\n",
       "    <tr>\n",
       "      <th>0</th>\n",
       "      <td>True</td>\n",
       "      <td>james s brady press briefing room p m est the ...</td>\n",
       "      <td>2017-01-18 17:36:00-05:00</td>\n",
       "      <td>Obama</td>\n",
       "      <td>Remarks by the President in Final Press Confer...</td>\n",
       "      <td>https://obamawhitehouse.archives.gov/the-press...</td>\n",
       "    </tr>\n",
       "    <tr>\n",
       "      <th>4</th>\n",
       "      <td>True</td>\n",
       "      <td>east room p m est the president they said this...</td>\n",
       "      <td>2017-01-16 19:08:00-05:00</td>\n",
       "      <td>Obama</td>\n",
       "      <td>Remarks by the President Honoring the World Se...</td>\n",
       "      <td>https://obamawhitehouse.archives.gov/the-press...</td>\n",
       "    </tr>\n",
       "    <tr>\n",
       "      <th>5</th>\n",
       "      <td>True</td>\n",
       "      <td>washington dc this week president obama delive...</td>\n",
       "      <td>2017-01-13 23:08:53-05:00</td>\n",
       "      <td>Obama</td>\n",
       "      <td>Weekly Address: The Honor of Serving You as Pr...</td>\n",
       "      <td>https://obamawhitehouse.archives.gov/the-press...</td>\n",
       "    </tr>\n",
       "    <tr>\n",
       "      <th>6</th>\n",
       "      <td>True</td>\n",
       "      <td>state dining room p m est the president hey al...</td>\n",
       "      <td>2017-01-12 18:27:00-05:00</td>\n",
       "      <td>Obama</td>\n",
       "      <td>Remarks by the President and the Vice Presiden...</td>\n",
       "      <td>https://obamawhitehouse.archives.gov/the-press...</td>\n",
       "    </tr>\n",
       "    <tr>\n",
       "      <th>9</th>\n",
       "      <td>True</td>\n",
       "      <td>mccormick place chicago illinois p m cst the p...</td>\n",
       "      <td>2017-01-10 23:55:00-05:00</td>\n",
       "      <td>Obama</td>\n",
       "      <td>Remarks by the President in Farewell Address |...</td>\n",
       "      <td>https://obamawhitehouse.archives.gov/the-press...</td>\n",
       "    </tr>\n",
       "  </tbody>\n",
       "</table>\n",
       "</div>"
      ],
      "text/plain": [
       "  nothing                                            content  \\\n",
       "0    True  james s brady press briefing room p m est the ...   \n",
       "4    True  east room p m est the president they said this...   \n",
       "5    True  washington dc this week president obama delive...   \n",
       "6    True  state dining room p m est the president hey al...   \n",
       "9    True  mccormick place chicago illinois p m cst the p...   \n",
       "\n",
       "                        date president  \\\n",
       "0  2017-01-18 17:36:00-05:00     Obama   \n",
       "4  2017-01-16 19:08:00-05:00     Obama   \n",
       "5  2017-01-13 23:08:53-05:00     Obama   \n",
       "6  2017-01-12 18:27:00-05:00     Obama   \n",
       "9  2017-01-10 23:55:00-05:00     Obama   \n",
       "\n",
       "                                            filename  \\\n",
       "0  Remarks by the President in Final Press Confer...   \n",
       "4  Remarks by the President Honoring the World Se...   \n",
       "5  Weekly Address: The Honor of Serving You as Pr...   \n",
       "6  Remarks by the President and the Vice Presiden...   \n",
       "9  Remarks by the President in Farewell Address |...   \n",
       "\n",
       "                                                 url  \n",
       "0  https://obamawhitehouse.archives.gov/the-press...  \n",
       "4  https://obamawhitehouse.archives.gov/the-press...  \n",
       "5  https://obamawhitehouse.archives.gov/the-press...  \n",
       "6  https://obamawhitehouse.archives.gov/the-press...  \n",
       "9  https://obamawhitehouse.archives.gov/the-press...  "
      ]
     },
     "execution_count": 254,
     "metadata": {},
     "output_type": "execute_result"
    }
   ],
   "source": [
    "president_speeches_df.columns = ['nothing', 'content', 'date', 'president', 'filename', 'url']\n",
    "president_speeches_df.head()"
   ]
  },
  {
   "cell_type": "code",
   "execution_count": null,
   "metadata": {},
   "outputs": [],
   "source": []
  },
  {
   "cell_type": "code",
   "execution_count": null,
   "metadata": {
    "collapsed": true
   },
   "outputs": [],
   "source": []
  },
  {
   "cell_type": "code",
   "execution_count": 255,
   "metadata": {},
   "outputs": [
    {
     "name": "stderr",
     "output_type": "stream",
     "text": [
      "/usr/local/lib/python3.6/site-packages/ipykernel_launcher.py:1: FutureWarning: currently extract(expand=None) means expand=False (return Index/Series/DataFrame) but in a future version of pandas this will be changed to expand=True (return DataFrame)\n",
      "  \"\"\"Entry point for launching an IPython kernel.\n",
      "/usr/local/lib/python3.6/site-packages/ipykernel_launcher.py:2: FutureWarning: currently extract(expand=None) means expand=False (return Index/Series/DataFrame) but in a future version of pandas this will be changed to expand=True (return DataFrame)\n",
      "  \n",
      "/usr/local/lib/python3.6/site-packages/ipykernel_launcher.py:2: SettingWithCopyWarning: \n",
      "A value is trying to be set on a copy of a slice from a DataFrame.\n",
      "Try using .loc[row_indexer,col_indexer] = value instead\n",
      "\n",
      "See the caveats in the documentation: http://pandas.pydata.org/pandas-docs/stable/indexing.html#indexing-view-versus-copy\n",
      "  \n"
     ]
    },
    {
     "data": {
      "text/html": [
       "<div>\n",
       "<style>\n",
       "    .dataframe thead tr:only-child th {\n",
       "        text-align: right;\n",
       "    }\n",
       "\n",
       "    .dataframe thead th {\n",
       "        text-align: left;\n",
       "    }\n",
       "\n",
       "    .dataframe tbody tr th {\n",
       "        vertical-align: top;\n",
       "    }\n",
       "</style>\n",
       "<table border=\"1\" class=\"dataframe\">\n",
       "  <thead>\n",
       "    <tr style=\"text-align: right;\">\n",
       "      <th></th>\n",
       "      <th>nothing</th>\n",
       "      <th>content</th>\n",
       "      <th>date</th>\n",
       "      <th>president</th>\n",
       "      <th>filename</th>\n",
       "      <th>url</th>\n",
       "      <th>day</th>\n",
       "    </tr>\n",
       "  </thead>\n",
       "  <tbody>\n",
       "    <tr>\n",
       "      <th>0</th>\n",
       "      <td>True</td>\n",
       "      <td>james s brady press briefing room p m est the ...</td>\n",
       "      <td>2017-01-18 17:36:00-05:00</td>\n",
       "      <td>Obama</td>\n",
       "      <td>Remarks by the President in Final Press Confer...</td>\n",
       "      <td>https://obamawhitehouse.archives.gov/the-press...</td>\n",
       "      <td>2017-01-18</td>\n",
       "    </tr>\n",
       "    <tr>\n",
       "      <th>4</th>\n",
       "      <td>True</td>\n",
       "      <td>east room p m est the president they said this...</td>\n",
       "      <td>2017-01-16 19:08:00-05:00</td>\n",
       "      <td>Obama</td>\n",
       "      <td>Remarks by the President Honoring the World Se...</td>\n",
       "      <td>https://obamawhitehouse.archives.gov/the-press...</td>\n",
       "      <td>2017-01-16</td>\n",
       "    </tr>\n",
       "    <tr>\n",
       "      <th>5</th>\n",
       "      <td>True</td>\n",
       "      <td>washington dc this week president obama delive...</td>\n",
       "      <td>2017-01-13 23:08:53-05:00</td>\n",
       "      <td>Obama</td>\n",
       "      <td>Weekly Address: The Honor of Serving You as Pr...</td>\n",
       "      <td>https://obamawhitehouse.archives.gov/the-press...</td>\n",
       "      <td>2017-01-13</td>\n",
       "    </tr>\n",
       "    <tr>\n",
       "      <th>6</th>\n",
       "      <td>True</td>\n",
       "      <td>state dining room p m est the president hey al...</td>\n",
       "      <td>2017-01-12 18:27:00-05:00</td>\n",
       "      <td>Obama</td>\n",
       "      <td>Remarks by the President and the Vice Presiden...</td>\n",
       "      <td>https://obamawhitehouse.archives.gov/the-press...</td>\n",
       "      <td>2017-01-12</td>\n",
       "    </tr>\n",
       "    <tr>\n",
       "      <th>9</th>\n",
       "      <td>True</td>\n",
       "      <td>mccormick place chicago illinois p m cst the p...</td>\n",
       "      <td>2017-01-10 23:55:00-05:00</td>\n",
       "      <td>Obama</td>\n",
       "      <td>Remarks by the President in Farewell Address |...</td>\n",
       "      <td>https://obamawhitehouse.archives.gov/the-press...</td>\n",
       "      <td>2017-01-10</td>\n",
       "    </tr>\n",
       "  </tbody>\n",
       "</table>\n",
       "</div>"
      ],
      "text/plain": [
       "  nothing                                            content  \\\n",
       "0    True  james s brady press briefing room p m est the ...   \n",
       "4    True  east room p m est the president they said this...   \n",
       "5    True  washington dc this week president obama delive...   \n",
       "6    True  state dining room p m est the president hey al...   \n",
       "9    True  mccormick place chicago illinois p m cst the p...   \n",
       "\n",
       "                        date president  \\\n",
       "0  2017-01-18 17:36:00-05:00     Obama   \n",
       "4  2017-01-16 19:08:00-05:00     Obama   \n",
       "5  2017-01-13 23:08:53-05:00     Obama   \n",
       "6  2017-01-12 18:27:00-05:00     Obama   \n",
       "9  2017-01-10 23:55:00-05:00     Obama   \n",
       "\n",
       "                                            filename  \\\n",
       "0  Remarks by the President in Final Press Confer...   \n",
       "4  Remarks by the President Honoring the World Se...   \n",
       "5  Weekly Address: The Honor of Serving You as Pr...   \n",
       "6  Remarks by the President and the Vice Presiden...   \n",
       "9  Remarks by the President in Farewell Address |...   \n",
       "\n",
       "                                                 url         day  \n",
       "0  https://obamawhitehouse.archives.gov/the-press...  2017-01-18  \n",
       "4  https://obamawhitehouse.archives.gov/the-press...  2017-01-16  \n",
       "5  https://obamawhitehouse.archives.gov/the-press...  2017-01-13  \n",
       "6  https://obamawhitehouse.archives.gov/the-press...  2017-01-12  \n",
       "9  https://obamawhitehouse.archives.gov/the-press...  2017-01-10  "
      ]
     },
     "execution_count": 255,
     "metadata": {},
     "output_type": "execute_result"
    }
   ],
   "source": [
    "day = president_speeches_df['date'].str.extract('(\\d\\d\\d\\d-\\d\\d?-\\d\\d)')\n",
    "president_speeches_df['day'] = president_speeches_df['date'].str.extract('(\\d\\d\\d\\d-\\d\\d?-\\d\\d)')\n",
    "president_speeches_df.head()"
   ]
  },
  {
   "cell_type": "code",
   "execution_count": 256,
   "metadata": {},
   "outputs": [
    {
     "data": {
      "text/plain": [
       "0    2017-01-18\n",
       "4    2017-01-16\n",
       "5    2017-01-13\n",
       "6    2017-01-12\n",
       "9    2017-01-10\n",
       "Name: date, dtype: object"
      ]
     },
     "execution_count": 256,
     "metadata": {},
     "output_type": "execute_result"
    }
   ],
   "source": [
    "day.head()\n"
   ]
  },
  {
   "cell_type": "code",
   "execution_count": 257,
   "metadata": {},
   "outputs": [
    {
     "name": "stderr",
     "output_type": "stream",
     "text": [
      "/usr/local/lib/python3.6/site-packages/ipykernel_launcher.py:1: SettingWithCopyWarning: \n",
      "A value is trying to be set on a copy of a slice from a DataFrame\n",
      "\n",
      "See the caveats in the documentation: http://pandas.pydata.org/pandas-docs/stable/indexing.html#indexing-view-versus-copy\n",
      "  \"\"\"Entry point for launching an IPython kernel.\n"
     ]
    }
   ],
   "source": [
    "president_speeches_df.drop('nothing', axis=1, inplace=True)"
   ]
  },
  {
   "cell_type": "code",
   "execution_count": 258,
   "metadata": {},
   "outputs": [
    {
     "data": {
      "text/html": [
       "<div>\n",
       "<style>\n",
       "    .dataframe thead tr:only-child th {\n",
       "        text-align: right;\n",
       "    }\n",
       "\n",
       "    .dataframe thead th {\n",
       "        text-align: left;\n",
       "    }\n",
       "\n",
       "    .dataframe tbody tr th {\n",
       "        vertical-align: top;\n",
       "    }\n",
       "</style>\n",
       "<table border=\"1\" class=\"dataframe\">\n",
       "  <thead>\n",
       "    <tr style=\"text-align: right;\">\n",
       "      <th></th>\n",
       "      <th>content</th>\n",
       "      <th>date</th>\n",
       "      <th>president</th>\n",
       "      <th>filename</th>\n",
       "      <th>url</th>\n",
       "      <th>day</th>\n",
       "    </tr>\n",
       "  </thead>\n",
       "  <tbody>\n",
       "    <tr>\n",
       "      <th>0</th>\n",
       "      <td>james s brady press briefing room p m est the ...</td>\n",
       "      <td>2017-01-18 17:36:00-05:00</td>\n",
       "      <td>Obama</td>\n",
       "      <td>Remarks by the President in Final Press Confer...</td>\n",
       "      <td>https://obamawhitehouse.archives.gov/the-press...</td>\n",
       "      <td>2017-01-18</td>\n",
       "    </tr>\n",
       "    <tr>\n",
       "      <th>4</th>\n",
       "      <td>east room p m est the president they said this...</td>\n",
       "      <td>2017-01-16 19:08:00-05:00</td>\n",
       "      <td>Obama</td>\n",
       "      <td>Remarks by the President Honoring the World Se...</td>\n",
       "      <td>https://obamawhitehouse.archives.gov/the-press...</td>\n",
       "      <td>2017-01-16</td>\n",
       "    </tr>\n",
       "    <tr>\n",
       "      <th>5</th>\n",
       "      <td>washington dc this week president obama delive...</td>\n",
       "      <td>2017-01-13 23:08:53-05:00</td>\n",
       "      <td>Obama</td>\n",
       "      <td>Weekly Address: The Honor of Serving You as Pr...</td>\n",
       "      <td>https://obamawhitehouse.archives.gov/the-press...</td>\n",
       "      <td>2017-01-13</td>\n",
       "    </tr>\n",
       "    <tr>\n",
       "      <th>6</th>\n",
       "      <td>state dining room p m est the president hey al...</td>\n",
       "      <td>2017-01-12 18:27:00-05:00</td>\n",
       "      <td>Obama</td>\n",
       "      <td>Remarks by the President and the Vice Presiden...</td>\n",
       "      <td>https://obamawhitehouse.archives.gov/the-press...</td>\n",
       "      <td>2017-01-12</td>\n",
       "    </tr>\n",
       "    <tr>\n",
       "      <th>9</th>\n",
       "      <td>mccormick place chicago illinois p m cst the p...</td>\n",
       "      <td>2017-01-10 23:55:00-05:00</td>\n",
       "      <td>Obama</td>\n",
       "      <td>Remarks by the President in Farewell Address |...</td>\n",
       "      <td>https://obamawhitehouse.archives.gov/the-press...</td>\n",
       "      <td>2017-01-10</td>\n",
       "    </tr>\n",
       "  </tbody>\n",
       "</table>\n",
       "</div>"
      ],
      "text/plain": [
       "                                             content  \\\n",
       "0  james s brady press briefing room p m est the ...   \n",
       "4  east room p m est the president they said this...   \n",
       "5  washington dc this week president obama delive...   \n",
       "6  state dining room p m est the president hey al...   \n",
       "9  mccormick place chicago illinois p m cst the p...   \n",
       "\n",
       "                        date president  \\\n",
       "0  2017-01-18 17:36:00-05:00     Obama   \n",
       "4  2017-01-16 19:08:00-05:00     Obama   \n",
       "5  2017-01-13 23:08:53-05:00     Obama   \n",
       "6  2017-01-12 18:27:00-05:00     Obama   \n",
       "9  2017-01-10 23:55:00-05:00     Obama   \n",
       "\n",
       "                                            filename  \\\n",
       "0  Remarks by the President in Final Press Confer...   \n",
       "4  Remarks by the President Honoring the World Se...   \n",
       "5  Weekly Address: The Honor of Serving You as Pr...   \n",
       "6  Remarks by the President and the Vice Presiden...   \n",
       "9  Remarks by the President in Farewell Address |...   \n",
       "\n",
       "                                                 url         day  \n",
       "0  https://obamawhitehouse.archives.gov/the-press...  2017-01-18  \n",
       "4  https://obamawhitehouse.archives.gov/the-press...  2017-01-16  \n",
       "5  https://obamawhitehouse.archives.gov/the-press...  2017-01-13  \n",
       "6  https://obamawhitehouse.archives.gov/the-press...  2017-01-12  \n",
       "9  https://obamawhitehouse.archives.gov/the-press...  2017-01-10  "
      ]
     },
     "execution_count": 258,
     "metadata": {},
     "output_type": "execute_result"
    }
   ],
   "source": [
    "president_speeches_df.head()"
   ]
  },
  {
   "cell_type": "code",
   "execution_count": 274,
   "metadata": {
    "collapsed": true
   },
   "outputs": [],
   "source": [
    "president_speeches_df = president_speeches_df.head(221)"
   ]
  },
  {
   "cell_type": "markdown",
   "metadata": {},
   "source": [
    "### Add a column for the name \n",
    "\n",
    "We don't have a name for these, so we'll just use the filename."
   ]
  },
  {
   "cell_type": "markdown",
   "metadata": {},
   "source": [
    "# How do Obama speeches before and after the elections sound?\n",
    "\n",
    "Let's analyze by counting words."
   ]
  },
  {
   "cell_type": "code",
   "execution_count": 275,
   "metadata": {},
   "outputs": [
    {
     "data": {
      "text/html": [
       "<div>\n",
       "<style>\n",
       "    .dataframe thead tr:only-child th {\n",
       "        text-align: right;\n",
       "    }\n",
       "\n",
       "    .dataframe thead th {\n",
       "        text-align: left;\n",
       "    }\n",
       "\n",
       "    .dataframe tbody tr th {\n",
       "        vertical-align: top;\n",
       "    }\n",
       "</style>\n",
       "<table border=\"1\" class=\"dataframe\">\n",
       "  <thead>\n",
       "    <tr style=\"text-align: right;\">\n",
       "      <th></th>\n",
       "      <th>aback</th>\n",
       "      <th>abacus</th>\n",
       "      <th>abandon</th>\n",
       "      <th>abandoned</th>\n",
       "      <th>abandonment</th>\n",
       "      <th>abate</th>\n",
       "      <th>abatement</th>\n",
       "      <th>abba</th>\n",
       "      <th>abbot</th>\n",
       "      <th>abbreviate</th>\n",
       "      <th>...</th>\n",
       "      <th>zephyr</th>\n",
       "      <th>zeppelin</th>\n",
       "      <th>zest</th>\n",
       "      <th>zip</th>\n",
       "      <th>zodiac</th>\n",
       "      <th>zone</th>\n",
       "      <th>zoo</th>\n",
       "      <th>zoological</th>\n",
       "      <th>zoology</th>\n",
       "      <th>zoom</th>\n",
       "    </tr>\n",
       "  </thead>\n",
       "  <tbody>\n",
       "    <tr>\n",
       "      <th>0</th>\n",
       "      <td>0.0</td>\n",
       "      <td>0.0</td>\n",
       "      <td>0.0</td>\n",
       "      <td>0.0</td>\n",
       "      <td>0.0</td>\n",
       "      <td>0.0</td>\n",
       "      <td>0.0</td>\n",
       "      <td>0.0</td>\n",
       "      <td>0.0</td>\n",
       "      <td>0.0</td>\n",
       "      <td>...</td>\n",
       "      <td>0.0</td>\n",
       "      <td>0.0</td>\n",
       "      <td>0.0</td>\n",
       "      <td>0.0</td>\n",
       "      <td>0.0</td>\n",
       "      <td>0.0</td>\n",
       "      <td>0.0</td>\n",
       "      <td>0.0</td>\n",
       "      <td>0.0</td>\n",
       "      <td>0.0</td>\n",
       "    </tr>\n",
       "    <tr>\n",
       "      <th>1</th>\n",
       "      <td>0.0</td>\n",
       "      <td>0.0</td>\n",
       "      <td>0.0</td>\n",
       "      <td>0.0</td>\n",
       "      <td>0.0</td>\n",
       "      <td>0.0</td>\n",
       "      <td>0.0</td>\n",
       "      <td>0.0</td>\n",
       "      <td>0.0</td>\n",
       "      <td>0.0</td>\n",
       "      <td>...</td>\n",
       "      <td>0.0</td>\n",
       "      <td>0.0</td>\n",
       "      <td>0.0</td>\n",
       "      <td>0.0</td>\n",
       "      <td>0.0</td>\n",
       "      <td>0.0</td>\n",
       "      <td>0.0</td>\n",
       "      <td>0.0</td>\n",
       "      <td>0.0</td>\n",
       "      <td>0.0</td>\n",
       "    </tr>\n",
       "    <tr>\n",
       "      <th>2</th>\n",
       "      <td>0.0</td>\n",
       "      <td>0.0</td>\n",
       "      <td>0.0</td>\n",
       "      <td>0.0</td>\n",
       "      <td>0.0</td>\n",
       "      <td>0.0</td>\n",
       "      <td>0.0</td>\n",
       "      <td>0.0</td>\n",
       "      <td>0.0</td>\n",
       "      <td>0.0</td>\n",
       "      <td>...</td>\n",
       "      <td>0.0</td>\n",
       "      <td>0.0</td>\n",
       "      <td>0.0</td>\n",
       "      <td>0.0</td>\n",
       "      <td>0.0</td>\n",
       "      <td>0.0</td>\n",
       "      <td>0.0</td>\n",
       "      <td>0.0</td>\n",
       "      <td>0.0</td>\n",
       "      <td>0.0</td>\n",
       "    </tr>\n",
       "    <tr>\n",
       "      <th>3</th>\n",
       "      <td>0.0</td>\n",
       "      <td>0.0</td>\n",
       "      <td>0.0</td>\n",
       "      <td>0.0</td>\n",
       "      <td>0.0</td>\n",
       "      <td>0.0</td>\n",
       "      <td>0.0</td>\n",
       "      <td>0.0</td>\n",
       "      <td>0.0</td>\n",
       "      <td>0.0</td>\n",
       "      <td>...</td>\n",
       "      <td>0.0</td>\n",
       "      <td>0.0</td>\n",
       "      <td>0.0</td>\n",
       "      <td>0.0</td>\n",
       "      <td>0.0</td>\n",
       "      <td>0.0</td>\n",
       "      <td>0.0</td>\n",
       "      <td>0.0</td>\n",
       "      <td>0.0</td>\n",
       "      <td>0.0</td>\n",
       "    </tr>\n",
       "    <tr>\n",
       "      <th>4</th>\n",
       "      <td>0.0</td>\n",
       "      <td>0.0</td>\n",
       "      <td>0.0</td>\n",
       "      <td>0.0</td>\n",
       "      <td>0.0</td>\n",
       "      <td>0.0</td>\n",
       "      <td>0.0</td>\n",
       "      <td>0.0</td>\n",
       "      <td>0.0</td>\n",
       "      <td>0.0</td>\n",
       "      <td>...</td>\n",
       "      <td>0.0</td>\n",
       "      <td>0.0</td>\n",
       "      <td>0.0</td>\n",
       "      <td>0.0</td>\n",
       "      <td>0.0</td>\n",
       "      <td>0.0</td>\n",
       "      <td>0.0</td>\n",
       "      <td>0.0</td>\n",
       "      <td>0.0</td>\n",
       "      <td>0.0</td>\n",
       "    </tr>\n",
       "  </tbody>\n",
       "</table>\n",
       "<p>5 rows × 14182 columns</p>\n",
       "</div>"
      ],
      "text/plain": [
       "   aback  abacus  abandon  abandoned  abandonment  abate  abatement  abba  \\\n",
       "0    0.0     0.0      0.0        0.0          0.0    0.0        0.0   0.0   \n",
       "1    0.0     0.0      0.0        0.0          0.0    0.0        0.0   0.0   \n",
       "2    0.0     0.0      0.0        0.0          0.0    0.0        0.0   0.0   \n",
       "3    0.0     0.0      0.0        0.0          0.0    0.0        0.0   0.0   \n",
       "4    0.0     0.0      0.0        0.0          0.0    0.0        0.0   0.0   \n",
       "\n",
       "   abbot  abbreviate  ...   zephyr  zeppelin  zest  zip  zodiac  zone  zoo  \\\n",
       "0    0.0         0.0  ...      0.0       0.0   0.0  0.0     0.0   0.0  0.0   \n",
       "1    0.0         0.0  ...      0.0       0.0   0.0  0.0     0.0   0.0  0.0   \n",
       "2    0.0         0.0  ...      0.0       0.0   0.0  0.0     0.0   0.0  0.0   \n",
       "3    0.0         0.0  ...      0.0       0.0   0.0  0.0     0.0   0.0  0.0   \n",
       "4    0.0         0.0  ...      0.0       0.0   0.0  0.0     0.0   0.0  0.0   \n",
       "\n",
       "   zoological  zoology  zoom  \n",
       "0         0.0      0.0   0.0  \n",
       "1         0.0      0.0   0.0  \n",
       "2         0.0      0.0   0.0  \n",
       "3         0.0      0.0   0.0  \n",
       "4         0.0      0.0   0.0  \n",
       "\n",
       "[5 rows x 14182 columns]"
      ]
     },
     "execution_count": 275,
     "metadata": {},
     "output_type": "execute_result"
    }
   ],
   "source": [
    "from sklearn.feature_extraction.text import TfidfVectorizer\n",
    "\n",
    "# I only want you to look for words in the emotional lexicon\n",
    "# because we don't know what's up with the other words\n",
    "vec = TfidfVectorizer(vocabulary=emolex_df.word,\n",
    "                      use_idf=False, \n",
    "                      norm='l1') # ELL - ONE\n",
    "matrix = vec.fit_transform(president_speeches_df['content'])\n",
    "vocab = vec.get_feature_names()\n",
    "president_speeches_df_wordcount_df = pd.DataFrame(matrix.toarray(), columns=vocab)\n",
    "president_speeches_df_wordcount_df.head()"
   ]
  },
  {
   "cell_type": "code",
   "execution_count": 276,
   "metadata": {},
   "outputs": [
    {
     "data": {
      "text/html": [
       "<div>\n",
       "<style>\n",
       "    .dataframe thead tr:only-child th {\n",
       "        text-align: right;\n",
       "    }\n",
       "\n",
       "    .dataframe thead th {\n",
       "        text-align: left;\n",
       "    }\n",
       "\n",
       "    .dataframe tbody tr th {\n",
       "        vertical-align: top;\n",
       "    }\n",
       "</style>\n",
       "<table border=\"1\" class=\"dataframe\">\n",
       "  <thead>\n",
       "    <tr style=\"text-align: right;\">\n",
       "      <th></th>\n",
       "      <th>content</th>\n",
       "      <th>date</th>\n",
       "      <th>president</th>\n",
       "      <th>filename</th>\n",
       "      <th>url</th>\n",
       "      <th>day</th>\n",
       "      <th>positivity</th>\n",
       "      <th>anger</th>\n",
       "      <th>joy</th>\n",
       "      <th>disgust</th>\n",
       "      <th>surprise</th>\n",
       "      <th>trust</th>\n",
       "      <th>anticipation</th>\n",
       "      <th>sadness</th>\n",
       "      <th>negative</th>\n",
       "      <th>fear</th>\n",
       "    </tr>\n",
       "  </thead>\n",
       "  <tbody>\n",
       "    <tr>\n",
       "      <th>0</th>\n",
       "      <td>james s brady press briefing room p m est the ...</td>\n",
       "      <td>2017-01-18 17:36:00-05:00</td>\n",
       "      <td>Obama</td>\n",
       "      <td>Remarks by the President in Final Press Confer...</td>\n",
       "      <td>https://obamawhitehouse.archives.gov/the-press...</td>\n",
       "      <td>2017-01-18</td>\n",
       "      <td>0.308870</td>\n",
       "      <td>0.053606</td>\n",
       "      <td>0.089343</td>\n",
       "      <td>0.025526</td>\n",
       "      <td>0.052967</td>\n",
       "      <td>0.209955</td>\n",
       "      <td>0.112317</td>\n",
       "      <td>0.056796</td>\n",
       "      <td>0.097001</td>\n",
       "      <td>0.066369</td>\n",
       "    </tr>\n",
       "    <tr>\n",
       "      <th>4</th>\n",
       "      <td>east room p m est the president they said this...</td>\n",
       "      <td>2017-01-16 19:08:00-05:00</td>\n",
       "      <td>Obama</td>\n",
       "      <td>Remarks by the President Honoring the World Se...</td>\n",
       "      <td>https://obamawhitehouse.archives.gov/the-press...</td>\n",
       "      <td>2017-01-16</td>\n",
       "      <td>0.355715</td>\n",
       "      <td>0.071942</td>\n",
       "      <td>0.193445</td>\n",
       "      <td>0.031175</td>\n",
       "      <td>0.128697</td>\n",
       "      <td>0.267786</td>\n",
       "      <td>0.115108</td>\n",
       "      <td>0.053557</td>\n",
       "      <td>0.127898</td>\n",
       "      <td>0.103118</td>\n",
       "    </tr>\n",
       "    <tr>\n",
       "      <th>5</th>\n",
       "      <td>washington dc this week president obama delive...</td>\n",
       "      <td>2017-01-13 23:08:53-05:00</td>\n",
       "      <td>Obama</td>\n",
       "      <td>Weekly Address: The Honor of Serving You as Pr...</td>\n",
       "      <td>https://obamawhitehouse.archives.gov/the-press...</td>\n",
       "      <td>2017-01-13</td>\n",
       "      <td>0.275862</td>\n",
       "      <td>0.000000</td>\n",
       "      <td>0.034483</td>\n",
       "      <td>0.000000</td>\n",
       "      <td>0.034483</td>\n",
       "      <td>0.172414</td>\n",
       "      <td>0.103448</td>\n",
       "      <td>0.000000</td>\n",
       "      <td>0.017241</td>\n",
       "      <td>0.034483</td>\n",
       "    </tr>\n",
       "  </tbody>\n",
       "</table>\n",
       "</div>"
      ],
      "text/plain": [
       "                                             content  \\\n",
       "0  james s brady press briefing room p m est the ...   \n",
       "4  east room p m est the president they said this...   \n",
       "5  washington dc this week president obama delive...   \n",
       "\n",
       "                        date president  \\\n",
       "0  2017-01-18 17:36:00-05:00     Obama   \n",
       "4  2017-01-16 19:08:00-05:00     Obama   \n",
       "5  2017-01-13 23:08:53-05:00     Obama   \n",
       "\n",
       "                                            filename  \\\n",
       "0  Remarks by the President in Final Press Confer...   \n",
       "4  Remarks by the President Honoring the World Se...   \n",
       "5  Weekly Address: The Honor of Serving You as Pr...   \n",
       "\n",
       "                                                 url         day  positivity  \\\n",
       "0  https://obamawhitehouse.archives.gov/the-press...  2017-01-18    0.308870   \n",
       "4  https://obamawhitehouse.archives.gov/the-press...  2017-01-16    0.355715   \n",
       "5  https://obamawhitehouse.archives.gov/the-press...  2017-01-13    0.275862   \n",
       "\n",
       "      anger       joy   disgust  surprise     trust  anticipation   sadness  \\\n",
       "0  0.053606  0.089343  0.025526  0.052967  0.209955      0.112317  0.056796   \n",
       "4  0.071942  0.193445  0.031175  0.128697  0.267786      0.115108  0.053557   \n",
       "5  0.000000  0.034483  0.000000  0.034483  0.172414      0.103448  0.000000   \n",
       "\n",
       "   negative      fear  \n",
       "0  0.097001  0.066369  \n",
       "4  0.127898  0.103118  \n",
       "5  0.017241  0.034483  "
      ]
     },
     "execution_count": 276,
     "metadata": {},
     "output_type": "execute_result"
    }
   ],
   "source": [
    "# Get your list of positive words\n",
    "positive_words = emolex_df[emolex_df.positive == 1]['word']\n",
    "\n",
    "# Only give me the columns of angry words\n",
    "president_speeches_df['positivity'] = president_speeches_df_wordcount_df[positive_words].sum(axis=1)\n",
    "president_speeches_df.head(3)"
   ]
  },
  {
   "cell_type": "code",
   "execution_count": 277,
   "metadata": {},
   "outputs": [
    {
     "data": {
      "text/html": [
       "<div>\n",
       "<style>\n",
       "    .dataframe thead tr:only-child th {\n",
       "        text-align: right;\n",
       "    }\n",
       "\n",
       "    .dataframe thead th {\n",
       "        text-align: left;\n",
       "    }\n",
       "\n",
       "    .dataframe tbody tr th {\n",
       "        vertical-align: top;\n",
       "    }\n",
       "</style>\n",
       "<table border=\"1\" class=\"dataframe\">\n",
       "  <thead>\n",
       "    <tr style=\"text-align: right;\">\n",
       "      <th></th>\n",
       "      <th>content</th>\n",
       "      <th>date</th>\n",
       "      <th>president</th>\n",
       "      <th>filename</th>\n",
       "      <th>url</th>\n",
       "      <th>day</th>\n",
       "      <th>positivity</th>\n",
       "      <th>anger</th>\n",
       "      <th>joy</th>\n",
       "      <th>disgust</th>\n",
       "      <th>surprise</th>\n",
       "      <th>trust</th>\n",
       "      <th>anticipation</th>\n",
       "      <th>sadness</th>\n",
       "      <th>negative</th>\n",
       "      <th>fear</th>\n",
       "    </tr>\n",
       "  </thead>\n",
       "  <tbody>\n",
       "    <tr>\n",
       "      <th>0</th>\n",
       "      <td>james s brady press briefing room p m est the ...</td>\n",
       "      <td>2017-01-18 17:36:00-05:00</td>\n",
       "      <td>Obama</td>\n",
       "      <td>Remarks by the President in Final Press Confer...</td>\n",
       "      <td>https://obamawhitehouse.archives.gov/the-press...</td>\n",
       "      <td>2017-01-18</td>\n",
       "      <td>0.308870</td>\n",
       "      <td>0.053606</td>\n",
       "      <td>0.089343</td>\n",
       "      <td>0.025526</td>\n",
       "      <td>0.052967</td>\n",
       "      <td>0.209955</td>\n",
       "      <td>0.112317</td>\n",
       "      <td>0.056796</td>\n",
       "      <td>0.097001</td>\n",
       "      <td>0.066369</td>\n",
       "    </tr>\n",
       "    <tr>\n",
       "      <th>4</th>\n",
       "      <td>east room p m est the president they said this...</td>\n",
       "      <td>2017-01-16 19:08:00-05:00</td>\n",
       "      <td>Obama</td>\n",
       "      <td>Remarks by the President Honoring the World Se...</td>\n",
       "      <td>https://obamawhitehouse.archives.gov/the-press...</td>\n",
       "      <td>2017-01-16</td>\n",
       "      <td>0.355715</td>\n",
       "      <td>0.071942</td>\n",
       "      <td>0.193445</td>\n",
       "      <td>0.031175</td>\n",
       "      <td>0.128697</td>\n",
       "      <td>0.267786</td>\n",
       "      <td>0.115108</td>\n",
       "      <td>0.053557</td>\n",
       "      <td>0.127898</td>\n",
       "      <td>0.103118</td>\n",
       "    </tr>\n",
       "    <tr>\n",
       "      <th>5</th>\n",
       "      <td>washington dc this week president obama delive...</td>\n",
       "      <td>2017-01-13 23:08:53-05:00</td>\n",
       "      <td>Obama</td>\n",
       "      <td>Weekly Address: The Honor of Serving You as Pr...</td>\n",
       "      <td>https://obamawhitehouse.archives.gov/the-press...</td>\n",
       "      <td>2017-01-13</td>\n",
       "      <td>0.275862</td>\n",
       "      <td>0.000000</td>\n",
       "      <td>0.034483</td>\n",
       "      <td>0.000000</td>\n",
       "      <td>0.034483</td>\n",
       "      <td>0.172414</td>\n",
       "      <td>0.103448</td>\n",
       "      <td>0.000000</td>\n",
       "      <td>0.017241</td>\n",
       "      <td>0.034483</td>\n",
       "    </tr>\n",
       "  </tbody>\n",
       "</table>\n",
       "</div>"
      ],
      "text/plain": [
       "                                             content  \\\n",
       "0  james s brady press briefing room p m est the ...   \n",
       "4  east room p m est the president they said this...   \n",
       "5  washington dc this week president obama delive...   \n",
       "\n",
       "                        date president  \\\n",
       "0  2017-01-18 17:36:00-05:00     Obama   \n",
       "4  2017-01-16 19:08:00-05:00     Obama   \n",
       "5  2017-01-13 23:08:53-05:00     Obama   \n",
       "\n",
       "                                            filename  \\\n",
       "0  Remarks by the President in Final Press Confer...   \n",
       "4  Remarks by the President Honoring the World Se...   \n",
       "5  Weekly Address: The Honor of Serving You as Pr...   \n",
       "\n",
       "                                                 url         day  positivity  \\\n",
       "0  https://obamawhitehouse.archives.gov/the-press...  2017-01-18    0.308870   \n",
       "4  https://obamawhitehouse.archives.gov/the-press...  2017-01-16    0.355715   \n",
       "5  https://obamawhitehouse.archives.gov/the-press...  2017-01-13    0.275862   \n",
       "\n",
       "      anger       joy   disgust  surprise     trust  anticipation   sadness  \\\n",
       "0  0.053606  0.089343  0.025526  0.052967  0.209955      0.112317  0.056796   \n",
       "4  0.071942  0.193445  0.031175  0.128697  0.267786      0.115108  0.053557   \n",
       "5  0.000000  0.034483  0.000000  0.034483  0.172414      0.103448  0.000000   \n",
       "\n",
       "   negative      fear  \n",
       "0  0.097001  0.066369  \n",
       "4  0.127898  0.103118  \n",
       "5  0.017241  0.034483  "
      ]
     },
     "execution_count": 277,
     "metadata": {},
     "output_type": "execute_result"
    }
   ],
   "source": [
    "# Get your list of positive words\n",
    "anger_words = emolex_df[emolex_df.anger == 1]['word']\n",
    "\n",
    "# Only give me the columns of angry words\n",
    "president_speeches_df['anger'] = president_speeches_df_wordcount_df[anger_words].sum(axis=1)\n",
    "president_speeches_df.head(3)"
   ]
  },
  {
   "cell_type": "code",
   "execution_count": 278,
   "metadata": {},
   "outputs": [],
   "source": [
    "# Only give me the columns of angry words\n",
    "#president_speeches_df['positivity'] = president_speeches_df_wordcount_df[positive_words].sum(axis=1)\n",
    "\n",
    "\n",
    "president_speeches_df['joy'] = president_speeches_df_wordcount_df[joy_words].sum(axis=1)\n",
    "\n",
    "\n",
    "president_speeches_df['disgust'] = president_speeches_df_wordcount_df[disgust_words].sum(axis=1)\n",
    "\n",
    "\n",
    "\n",
    "president_speeches_df['surprise'] = president_speeches_df_wordcount_df[surprise_words].sum(axis=1)\n",
    "\n",
    "president_speeches_df['trust'] = president_speeches_df_wordcount_df[trust_words].sum(axis=1)\n",
    "\n",
    "\n",
    "president_speeches_df['anticipation'] = president_speeches_df_wordcount_df[anticipation_words].sum(axis=1)\n",
    "\n",
    "\n",
    "president_speeches_df['sadness'] = president_speeches_df_wordcount_df[sadness_words].sum(axis=1)\n",
    "\n",
    "\n",
    "president_speeches_df['negative'] = president_speeches_df_wordcount_df[negative_words].sum(axis=1)\n",
    "\n",
    "\n",
    "president_speeches_df['fear'] = president_speeches_df_wordcount_df[fear_words].sum(axis=1)\n",
    "\n",
    "\n"
   ]
  },
  {
   "cell_type": "markdown",
   "metadata": {},
   "source": [
    "# Comparing Election vs Presidency"
   ]
  },
  {
   "cell_type": "code",
   "execution_count": 291,
   "metadata": {},
   "outputs": [
    {
     "data": {
      "text/plain": [
       "<matplotlib.axes._subplots.AxesSubplot at 0x153b6e080>"
      ]
     },
     "execution_count": 291,
     "metadata": {},
     "output_type": "execute_result"
    },
    {
     "data": {
      "image/png": "[encoded data removed]",
      "text/plain": [
       "<matplotlib.figure.Figure at 0x153b1f7f0>"
      ]
     },
     "metadata": {},
     "output_type": "display_data"
    }
   ],
   "source": [
    "ax = speeches_df.plot(x='positivity', y= 'anger',c='red', kind='scatter')\n",
    "president_speeches_df.plot(x='positivity', y= 'anger', kind='scatter', ax=ax)"
   ]
  },
  {
   "cell_type": "code",
   "execution_count": 292,
   "metadata": {},
   "outputs": [
    {
     "data": {
      "text/plain": [
       "<matplotlib.axes._subplots.AxesSubplot at 0x153e817b8>"
      ]
     },
     "execution_count": 292,
     "metadata": {},
     "output_type": "execute_result"
    },
    {
     "data": {
      "image/png": "[encoded data removed]",
      "text/plain": [
       "<matplotlib.figure.Figure at 0x153d32470>"
      ]
     },
     "metadata": {},
     "output_type": "display_data"
    }
   ],
   "source": [
    "ax = speeches_df.plot(x='positivity', y='disgust', c='red', kind='scatter')\n",
    "president_speeches_df.plot(x='positivity', y='disgust', kind='scatter', ax=ax)"
   ]
  },
  {
   "cell_type": "code",
   "execution_count": 293,
   "metadata": {},
   "outputs": [
    {
     "data": {
      "text/plain": [
       "<matplotlib.axes._subplots.AxesSubplot at 0x153e48710>"
      ]
     },
     "execution_count": 293,
     "metadata": {},
     "output_type": "execute_result"
    },
    {
     "data": {
      "image/png": "[encoded data removed]",
      "text/plain": [
       "<matplotlib.figure.Figure at 0x153e899e8>"
      ]
     },
     "metadata": {},
     "output_type": "display_data"
    }
   ],
   "source": [
    "ax = speeches_df.plot(x='positivity', y='joy',c='red', kind='scatter')\n",
    "president_speeches_df.plot(x='positivity', y='joy', kind='scatter', ax=ax)"
   ]
  },
  {
   "cell_type": "code",
   "execution_count": 294,
   "metadata": {},
   "outputs": [
    {
     "data": {
      "text/plain": [
       "<matplotlib.axes._subplots.AxesSubplot at 0x153d324e0>"
      ]
     },
     "execution_count": 294,
     "metadata": {},
     "output_type": "execute_result"
    },
    {
     "data": {
      "image/png": "[encoded data removed]",
      "text/plain": [
       "<matplotlib.figure.Figure at 0x1521fc908>"
      ]
     },
     "metadata": {},
     "output_type": "display_data"
    }
   ],
   "source": [
    "ax = speeches_df.plot(x='positivity', y='sadness',c='red', kind='scatter')\n",
    "president_speeches_df.plot(x='positivity', y='sadness', kind='scatter', ax=ax)"
   ]
  },
  {
   "cell_type": "code",
   "execution_count": 295,
   "metadata": {
    "scrolled": true
   },
   "outputs": [
    {
     "data": {
      "text/plain": [
       "<matplotlib.axes._subplots.AxesSubplot at 0x154152b38>"
      ]
     },
     "execution_count": 295,
     "metadata": {},
     "output_type": "execute_result"
    },
    {
     "data": {
      "image/png": "[encoded data removed]",
      "text/plain": [
       "<matplotlib.figure.Figure at 0x153a33ef0>"
      ]
     },
     "metadata": {},
     "output_type": "display_data"
    }
   ],
   "source": [
    "ax = speeches_df.plot(x='sadness', y='anger', c='red', kind='scatter')\n",
    "president_speeches_df.plot(x='sadness', y='anger', kind='scatter', ax=ax)"
   ]
  },
  {
   "cell_type": "code",
   "execution_count": 296,
   "metadata": {},
   "outputs": [
    {
     "data": {
      "text/plain": [
       "<matplotlib.axes._subplots.AxesSubplot at 0x154264550>"
      ]
     },
     "execution_count": 296,
     "metadata": {},
     "output_type": "execute_result"
    },
    {
     "data": {
      "image/png": "[encoded data removed]",
      "text/plain": [
       "<matplotlib.figure.Figure at 0x15427d4a8>"
      ]
     },
     "metadata": {},
     "output_type": "display_data"
    }
   ],
   "source": [
    "ax = speeches_df.plot(x='disgust', y='anger',c='red', kind='scatter')\n",
    "president_speeches_df.plot(x='disgust', y='anger', kind='scatter', ax=ax)"
   ]
  },
  {
   "cell_type": "code",
   "execution_count": 297,
   "metadata": {},
   "outputs": [
    {
     "data": {
      "text/plain": [
       "<matplotlib.axes._subplots.AxesSubplot at 0x154289630>"
      ]
     },
     "execution_count": 297,
     "metadata": {},
     "output_type": "execute_result"
    },
    {
     "data": {
      "image/png": "[encoded data removed]",
      "text/plain": [
       "<matplotlib.figure.Figure at 0x15425d390>"
      ]
     },
     "metadata": {},
     "output_type": "display_data"
    }
   ],
   "source": [
    "ax = speeches_df.plot(x='positivity', y='trust',c='red', kind='scatter')\n",
    "president_speeches_df.plot(x='positivity', y='trust', kind='scatter', ax=ax)"
   ]
  },
  {
   "cell_type": "code",
   "execution_count": 298,
   "metadata": {},
   "outputs": [
    {
     "data": {
      "text/plain": [
       "<matplotlib.axes._subplots.AxesSubplot at 0x154431d30>"
      ]
     },
     "execution_count": 298,
     "metadata": {},
     "output_type": "execute_result"
    },
    {
     "data": {
      "image/png": "[encoded data removed]",
      "text/plain": [
       "<matplotlib.figure.Figure at 0x154488c18>"
      ]
     },
     "metadata": {},
     "output_type": "display_data"
    }
   ],
   "source": [
    "ax = speeches_df.plot(x='positivity', y='anticipation',c='red', kind='scatter')\n",
    "president_speeches_df.plot(x='positivity', y='anticipation', kind='scatter', ax=ax)"
   ]
  },
  {
   "cell_type": "code",
   "execution_count": 299,
   "metadata": {},
   "outputs": [
    {
     "data": {
      "text/plain": [
       "<matplotlib.axes._subplots.AxesSubplot at 0x154591320>"
      ]
     },
     "execution_count": 299,
     "metadata": {},
     "output_type": "execute_result"
    },
    {
     "data": {
      "image/png": "[encoded data removed]",
      "text/plain": [
       "<matplotlib.figure.Figure at 0x154599cf8>"
      ]
     },
     "metadata": {},
     "output_type": "display_data"
    }
   ],
   "source": [
    "ax = speeches_df.plot(x='surprise', y='anger',c='red', kind='scatter')\n",
    "president_speeches_df.plot(x='surprise', y='anger', kind='scatter', ax=ax)"
   ]
  },
  {
   "cell_type": "code",
   "execution_count": 300,
   "metadata": {},
   "outputs": [
    {
     "data": {
      "text/plain": [
       "<matplotlib.axes._subplots.AxesSubplot at 0x15468e128>"
      ]
     },
     "execution_count": 300,
     "metadata": {},
     "output_type": "execute_result"
    },
    {
     "data": {
      "image/png": "[encoded data removed]",
      "text/plain": [
       "<matplotlib.figure.Figure at 0x154027d30>"
      ]
     },
     "metadata": {},
     "output_type": "display_data"
    }
   ],
   "source": [
    "ax = speeches_df.plot(x='negative', y='sadness', c='red', kind='scatter')\n",
    "president_speeches_df.plot(x='negative', y='sadness', kind='scatter', ax=ax)"
   ]
  },
  {
   "cell_type": "code",
   "execution_count": null,
   "metadata": {
    "collapsed": true
   },
   "outputs": [],
   "source": []
  },
  {
   "cell_type": "code",
   "execution_count": 301,
   "metadata": {},
   "outputs": [
    {
     "ename": "KeyError",
     "evalue": "0",
     "output_type": "error",
     "traceback": [
      "\u001b[0;31m---------------------------------------------------------------------------\u001b[0m",
      "\u001b[0;31mKeyError\u001b[0m                                  Traceback (most recent call last)",
      "\u001b[0;32m/usr/local/lib/python3.6/site-packages/pandas/core/indexes/base.py\u001b[0m in \u001b[0;36mget_loc\u001b[0;34m(self, key, method, tolerance)\u001b[0m\n\u001b[1;32m   2441\u001b[0m             \u001b[0;32mtry\u001b[0m\u001b[0;34m:\u001b[0m\u001b[0;34m\u001b[0m\u001b[0m\n\u001b[0;32m-> 2442\u001b[0;31m                 \u001b[0;32mreturn\u001b[0m \u001b[0mself\u001b[0m\u001b[0;34m.\u001b[0m\u001b[0m_engine\u001b[0m\u001b[0;34m.\u001b[0m\u001b[0mget_loc\u001b[0m\u001b[0;34m(\u001b[0m\u001b[0mkey\u001b[0m\u001b[0;34m)\u001b[0m\u001b[0;34m\u001b[0m\u001b[0m\n\u001b[0m\u001b[1;32m   2443\u001b[0m             \u001b[0;32mexcept\u001b[0m \u001b[0mKeyError\u001b[0m\u001b[0;34m:\u001b[0m\u001b[0;34m\u001b[0m\u001b[0m\n",
      "\u001b[0;32mpandas/_libs/index.pyx\u001b[0m in \u001b[0;36mpandas._libs.index.IndexEngine.get_loc (pandas/_libs/index.c:5280)\u001b[0;34m()\u001b[0m\n",
      "\u001b[0;32mpandas/_libs/index.pyx\u001b[0m in \u001b[0;36mpandas._libs.index.IndexEngine.get_loc (pandas/_libs/index.c:5126)\u001b[0;34m()\u001b[0m\n",
      "\u001b[0;32mpandas/_libs/hashtable_class_helper.pxi\u001b[0m in \u001b[0;36mpandas._libs.hashtable.PyObjectHashTable.get_item (pandas/_libs/hashtable.c:20523)\u001b[0;34m()\u001b[0m\n",
      "\u001b[0;32mpandas/_libs/hashtable_class_helper.pxi\u001b[0m in \u001b[0;36mpandas._libs.hashtable.PyObjectHashTable.get_item (pandas/_libs/hashtable.c:20477)\u001b[0;34m()\u001b[0m\n",
      "\u001b[0;31mKeyError\u001b[0m: 0",
      "\nDuring handling of the above exception, another exception occurred:\n",
      "\u001b[0;31mKeyError\u001b[0m                                  Traceback (most recent call last)",
      "\u001b[0;32m<ipython-input-301-392e5d11c295>\u001b[0m in \u001b[0;36m<module>\u001b[0;34m()\u001b[0m\n\u001b[1;32m      6\u001b[0m                          \u001b[0mbackground_color\u001b[0m\u001b[0;34m=\u001b[0m\u001b[0;34m'white'\u001b[0m\u001b[0;34m,\u001b[0m\u001b[0;34m\u001b[0m\u001b[0m\n\u001b[1;32m      7\u001b[0m                          \u001b[0mwidth\u001b[0m\u001b[0;34m=\u001b[0m\u001b[0;36m1200\u001b[0m\u001b[0;34m,\u001b[0m\u001b[0;34m\u001b[0m\u001b[0m\n\u001b[0;32m----> 8\u001b[0;31m                          height=1000).generate(speeches_df[0])\n\u001b[0m\u001b[1;32m      9\u001b[0m \u001b[0;34m\u001b[0m\u001b[0m\n\u001b[1;32m     10\u001b[0m \u001b[0mplt\u001b[0m\u001b[0;34m.\u001b[0m\u001b[0mimshow\u001b[0m\u001b[0;34m(\u001b[0m\u001b[0mwordcloud\u001b[0m\u001b[0;34m)\u001b[0m\u001b[0;34m\u001b[0m\u001b[0m\n",
      "\u001b[0;32m/usr/local/lib/python3.6/site-packages/pandas/core/frame.py\u001b[0m in \u001b[0;36m__getitem__\u001b[0;34m(self, key)\u001b[0m\n\u001b[1;32m   1962\u001b[0m             \u001b[0;32mreturn\u001b[0m \u001b[0mself\u001b[0m\u001b[0;34m.\u001b[0m\u001b[0m_getitem_multilevel\u001b[0m\u001b[0;34m(\u001b[0m\u001b[0mkey\u001b[0m\u001b[0;34m)\u001b[0m\u001b[0;34m\u001b[0m\u001b[0m\n\u001b[1;32m   1963\u001b[0m         \u001b[0;32melse\u001b[0m\u001b[0;34m:\u001b[0m\u001b[0;34m\u001b[0m\u001b[0m\n\u001b[0;32m-> 1964\u001b[0;31m             \u001b[0;32mreturn\u001b[0m \u001b[0mself\u001b[0m\u001b[0;34m.\u001b[0m\u001b[0m_getitem_column\u001b[0m\u001b[0;34m(\u001b[0m\u001b[0mkey\u001b[0m\u001b[0;34m)\u001b[0m\u001b[0;34m\u001b[0m\u001b[0m\n\u001b[0m\u001b[1;32m   1965\u001b[0m \u001b[0;34m\u001b[0m\u001b[0m\n\u001b[1;32m   1966\u001b[0m     \u001b[0;32mdef\u001b[0m \u001b[0m_getitem_column\u001b[0m\u001b[0;34m(\u001b[0m\u001b[0mself\u001b[0m\u001b[0;34m,\u001b[0m \u001b[0mkey\u001b[0m\u001b[0;34m)\u001b[0m\u001b[0;34m:\u001b[0m\u001b[0;34m\u001b[0m\u001b[0m\n",
      "\u001b[0;32m/usr/local/lib/python3.6/site-packages/pandas/core/frame.py\u001b[0m in \u001b[0;36m_getitem_column\u001b[0;34m(self, key)\u001b[0m\n\u001b[1;32m   1969\u001b[0m         \u001b[0;31m# get column\u001b[0m\u001b[0;34m\u001b[0m\u001b[0;34m\u001b[0m\u001b[0m\n\u001b[1;32m   1970\u001b[0m         \u001b[0;32mif\u001b[0m \u001b[0mself\u001b[0m\u001b[0;34m.\u001b[0m\u001b[0mcolumns\u001b[0m\u001b[0;34m.\u001b[0m\u001b[0mis_unique\u001b[0m\u001b[0;34m:\u001b[0m\u001b[0;34m\u001b[0m\u001b[0m\n\u001b[0;32m-> 1971\u001b[0;31m             \u001b[0;32mreturn\u001b[0m \u001b[0mself\u001b[0m\u001b[0;34m.\u001b[0m\u001b[0m_get_item_cache\u001b[0m\u001b[0;34m(\u001b[0m\u001b[0mkey\u001b[0m\u001b[0;34m)\u001b[0m\u001b[0;34m\u001b[0m\u001b[0m\n\u001b[0m\u001b[1;32m   1972\u001b[0m \u001b[0;34m\u001b[0m\u001b[0m\n\u001b[1;32m   1973\u001b[0m         \u001b[0;31m# duplicate columns & possible reduce dimensionality\u001b[0m\u001b[0;34m\u001b[0m\u001b[0;34m\u001b[0m\u001b[0m\n",
      "\u001b[0;32m/usr/local/lib/python3.6/site-packages/pandas/core/generic.py\u001b[0m in \u001b[0;36m_get_item_cache\u001b[0;34m(self, item)\u001b[0m\n\u001b[1;32m   1643\u001b[0m         \u001b[0mres\u001b[0m \u001b[0;34m=\u001b[0m \u001b[0mcache\u001b[0m\u001b[0;34m.\u001b[0m\u001b[0mget\u001b[0m\u001b[0;34m(\u001b[0m\u001b[0mitem\u001b[0m\u001b[0;34m)\u001b[0m\u001b[0;34m\u001b[0m\u001b[0m\n\u001b[1;32m   1644\u001b[0m         \u001b[0;32mif\u001b[0m \u001b[0mres\u001b[0m \u001b[0;32mis\u001b[0m \u001b[0;32mNone\u001b[0m\u001b[0;34m:\u001b[0m\u001b[0;34m\u001b[0m\u001b[0m\n\u001b[0;32m-> 1645\u001b[0;31m             \u001b[0mvalues\u001b[0m \u001b[0;34m=\u001b[0m \u001b[0mself\u001b[0m\u001b[0;34m.\u001b[0m\u001b[0m_data\u001b[0m\u001b[0;34m.\u001b[0m\u001b[0mget\u001b[0m\u001b[0;34m(\u001b[0m\u001b[0mitem\u001b[0m\u001b[0;34m)\u001b[0m\u001b[0;34m\u001b[0m\u001b[0m\n\u001b[0m\u001b[1;32m   1646\u001b[0m             \u001b[0mres\u001b[0m \u001b[0;34m=\u001b[0m \u001b[0mself\u001b[0m\u001b[0;34m.\u001b[0m\u001b[0m_box_item_values\u001b[0m\u001b[0;34m(\u001b[0m\u001b[0mitem\u001b[0m\u001b[0;34m,\u001b[0m \u001b[0mvalues\u001b[0m\u001b[0;34m)\u001b[0m\u001b[0;34m\u001b[0m\u001b[0m\n\u001b[1;32m   1647\u001b[0m             \u001b[0mcache\u001b[0m\u001b[0;34m[\u001b[0m\u001b[0mitem\u001b[0m\u001b[0;34m]\u001b[0m \u001b[0;34m=\u001b[0m \u001b[0mres\u001b[0m\u001b[0;34m\u001b[0m\u001b[0m\n",
      "\u001b[0;32m/usr/local/lib/python3.6/site-packages/pandas/core/internals.py\u001b[0m in \u001b[0;36mget\u001b[0;34m(self, item, fastpath)\u001b[0m\n\u001b[1;32m   3588\u001b[0m \u001b[0;34m\u001b[0m\u001b[0m\n\u001b[1;32m   3589\u001b[0m             \u001b[0;32mif\u001b[0m \u001b[0;32mnot\u001b[0m \u001b[0misnull\u001b[0m\u001b[0;34m(\u001b[0m\u001b[0mitem\u001b[0m\u001b[0;34m)\u001b[0m\u001b[0;34m:\u001b[0m\u001b[0;34m\u001b[0m\u001b[0m\n\u001b[0;32m-> 3590\u001b[0;31m                 \u001b[0mloc\u001b[0m \u001b[0;34m=\u001b[0m \u001b[0mself\u001b[0m\u001b[0;34m.\u001b[0m\u001b[0mitems\u001b[0m\u001b[0;34m.\u001b[0m\u001b[0mget_loc\u001b[0m\u001b[0;34m(\u001b[0m\u001b[0mitem\u001b[0m\u001b[0;34m)\u001b[0m\u001b[0;34m\u001b[0m\u001b[0m\n\u001b[0m\u001b[1;32m   3591\u001b[0m             \u001b[0;32melse\u001b[0m\u001b[0;34m:\u001b[0m\u001b[0;34m\u001b[0m\u001b[0m\n\u001b[1;32m   3592\u001b[0m                 \u001b[0mindexer\u001b[0m \u001b[0;34m=\u001b[0m \u001b[0mnp\u001b[0m\u001b[0;34m.\u001b[0m\u001b[0marange\u001b[0m\u001b[0;34m(\u001b[0m\u001b[0mlen\u001b[0m\u001b[0;34m(\u001b[0m\u001b[0mself\u001b[0m\u001b[0;34m.\u001b[0m\u001b[0mitems\u001b[0m\u001b[0;34m)\u001b[0m\u001b[0;34m)\u001b[0m\u001b[0;34m[\u001b[0m\u001b[0misnull\u001b[0m\u001b[0;34m(\u001b[0m\u001b[0mself\u001b[0m\u001b[0;34m.\u001b[0m\u001b[0mitems\u001b[0m\u001b[0;34m)\u001b[0m\u001b[0;34m]\u001b[0m\u001b[0;34m\u001b[0m\u001b[0m\n",
      "\u001b[0;32m/usr/local/lib/python3.6/site-packages/pandas/core/indexes/base.py\u001b[0m in \u001b[0;36mget_loc\u001b[0;34m(self, key, method, tolerance)\u001b[0m\n\u001b[1;32m   2442\u001b[0m                 \u001b[0;32mreturn\u001b[0m \u001b[0mself\u001b[0m\u001b[0;34m.\u001b[0m\u001b[0m_engine\u001b[0m\u001b[0;34m.\u001b[0m\u001b[0mget_loc\u001b[0m\u001b[0;34m(\u001b[0m\u001b[0mkey\u001b[0m\u001b[0;34m)\u001b[0m\u001b[0;34m\u001b[0m\u001b[0m\n\u001b[1;32m   2443\u001b[0m             \u001b[0;32mexcept\u001b[0m \u001b[0mKeyError\u001b[0m\u001b[0;34m:\u001b[0m\u001b[0;34m\u001b[0m\u001b[0m\n\u001b[0;32m-> 2444\u001b[0;31m                 \u001b[0;32mreturn\u001b[0m \u001b[0mself\u001b[0m\u001b[0;34m.\u001b[0m\u001b[0m_engine\u001b[0m\u001b[0;34m.\u001b[0m\u001b[0mget_loc\u001b[0m\u001b[0;34m(\u001b[0m\u001b[0mself\u001b[0m\u001b[0;34m.\u001b[0m\u001b[0m_maybe_cast_indexer\u001b[0m\u001b[0;34m(\u001b[0m\u001b[0mkey\u001b[0m\u001b[0;34m)\u001b[0m\u001b[0;34m)\u001b[0m\u001b[0;34m\u001b[0m\u001b[0m\n\u001b[0m\u001b[1;32m   2445\u001b[0m \u001b[0;34m\u001b[0m\u001b[0m\n\u001b[1;32m   2446\u001b[0m         \u001b[0mindexer\u001b[0m \u001b[0;34m=\u001b[0m \u001b[0mself\u001b[0m\u001b[0;34m.\u001b[0m\u001b[0mget_indexer\u001b[0m\u001b[0;34m(\u001b[0m\u001b[0;34m[\u001b[0m\u001b[0mkey\u001b[0m\u001b[0;34m]\u001b[0m\u001b[0;34m,\u001b[0m \u001b[0mmethod\u001b[0m\u001b[0;34m=\u001b[0m\u001b[0mmethod\u001b[0m\u001b[0;34m,\u001b[0m \u001b[0mtolerance\u001b[0m\u001b[0;34m=\u001b[0m\u001b[0mtolerance\u001b[0m\u001b[0;34m)\u001b[0m\u001b[0;34m\u001b[0m\u001b[0m\n",
      "\u001b[0;32mpandas/_libs/index.pyx\u001b[0m in \u001b[0;36mpandas._libs.index.IndexEngine.get_loc (pandas/_libs/index.c:5280)\u001b[0;34m()\u001b[0m\n",
      "\u001b[0;32mpandas/_libs/index.pyx\u001b[0m in \u001b[0;36mpandas._libs.index.IndexEngine.get_loc (pandas/_libs/index.c:5126)\u001b[0;34m()\u001b[0m\n",
      "\u001b[0;32mpandas/_libs/hashtable_class_helper.pxi\u001b[0m in \u001b[0;36mpandas._libs.hashtable.PyObjectHashTable.get_item (pandas/_libs/hashtable.c:20523)\u001b[0;34m()\u001b[0m\n",
      "\u001b[0;32mpandas/_libs/hashtable_class_helper.pxi\u001b[0m in \u001b[0;36mpandas._libs.hashtable.PyObjectHashTable.get_item (pandas/_libs/hashtable.c:20477)\u001b[0;34m()\u001b[0m\n",
      "\u001b[0;31mKeyError\u001b[0m: 0"
     ]
    }
   ],
   "source": [
    "from wordcloud import WordCloud, STOPWORDS\n",
    "import matplotlib.pyplot as plt\n",
    "\n",
    "wordcloud = WordCloud(\n",
    "                         stopwords=STOPWORDS,\n",
    "                         background_color='white',\n",
    "                         width=1200,\n",
    "                         height=1000).generate(speeches[0])\n",
    "\n",
    "plt.imshow(wordcloud)\n",
    "plt.axis('off')\n",
    "plt.show()\n",
    " \n",
    "wordcount_df.sum().sort_values(ascending=False).head(50)"
   ]
  },
  {
   "cell_type": "code",
   "execution_count": null,
   "metadata": {},
   "outputs": [],
   "source": [
    "from wordcloud import WordCloud, STOPWORDS\n",
    "import matplotlib.pyplot as plt\n",
    "\n",
    "wordcloud = WordCloud(\n",
    "                         stopwords=STOPWORDS,\n",
    "                         background_color='white',\n",
    "                         width=1200,\n",
    "                         height=1000).generate(speeches[0])\n",
    "\n",
    "plt.imshow(wordcloud)\n",
    "plt.axis('off')\n",
    "plt.show()\n",
    " \n",
    "president_speeches_df_wordcount_df.sum().sort_values(ascending=False).head(50)"
   ]
  },
  {
   "cell_type": "code",
   "execution_count": null,
   "metadata": {
    "collapsed": true
   },
   "outputs": [],
   "source": []
  }
 ],
 "metadata": {
  "kernelspec": {
   "display_name": "Python 3",
   "language": "python",
   "name": "python3"
  },
  "language_info": {
   "codemirror_mode": {
    "name": "ipython",
    "version": 3
   },
   "file_extension": ".py",
   "mimetype": "text/x-python",
   "name": "python",
   "nbconvert_exporter": "python",
   "pygments_lexer": "ipython3",
   "version": "3.6.2"
  }
 },
 "nbformat": 4,
 "nbformat_minor": 2
}
